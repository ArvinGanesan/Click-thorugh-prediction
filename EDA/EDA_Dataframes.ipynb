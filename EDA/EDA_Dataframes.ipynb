{
 "cells": [
  {
   "cell_type": "markdown",
   "metadata": {},
   "source": [
    "# W261 Final Project\n",
    "\n",
    "#### *Anusha Munjuluri, Arvindh Ganesan, Kim Vignola, Christina Papadimitriou*"
   ]
  },
  {
   "cell_type": "markdown",
   "metadata": {},
   "source": [
    "### Notebook Set-up"
   ]
  },
  {
   "cell_type": "code",
   "execution_count": 165,
   "metadata": {},
   "outputs": [],
   "source": [
    "# imports\n",
    "import re\n",
    "import ast\n",
    "import time\n",
    "import numpy as np\n",
    "import pandas as pd\n",
    "import seaborn as sns\n",
    "import matplotlib.pyplot as plt"
   ]
  },
  {
   "cell_type": "code",
   "execution_count": 2,
   "metadata": {},
   "outputs": [],
   "source": [
    "# store path to notebook\n",
    "PWD = !pwd\n",
    "PWD = PWD[0]"
   ]
  },
  {
   "cell_type": "code",
   "execution_count": 3,
   "metadata": {},
   "outputs": [],
   "source": [
    "# start Spark Session\n",
    "from pyspark.sql import SparkSession\n",
    "app_name = \"final_project\"\n",
    "master = \"local[*]\"\n",
    "spark = SparkSession\\\n",
    "        .builder\\\n",
    "        .appName(app_name)\\\n",
    "        .master(master)\\\n",
    "        .getOrCreate()\n",
    "sc = spark.sparkContext"
   ]
  },
  {
   "cell_type": "markdown",
   "metadata": {},
   "source": [
    "## 1. Question Formulation"
   ]
  },
  {
   "cell_type": "code",
   "execution_count": null,
   "metadata": {},
   "outputs": [],
   "source": []
  },
  {
   "cell_type": "markdown",
   "metadata": {},
   "source": [
    "## 2. Algorithm Explanation"
   ]
  },
  {
   "cell_type": "code",
   "execution_count": null,
   "metadata": {},
   "outputs": [],
   "source": []
  },
  {
   "cell_type": "markdown",
   "metadata": {},
   "source": [
    "## 3. EDA & Discussion of Challenges"
   ]
  },
  {
   "cell_type": "markdown",
   "metadata": {},
   "source": [
    "#### A. Data Loading"
   ]
  },
  {
   "cell_type": "code",
   "execution_count": 4,
   "metadata": {},
   "outputs": [
    {
     "name": "stdout",
     "output_type": "stream",
     "text": [
      "0\t1\t1\t5\t0\t1382\t4\t15\t2\t181\t1\t2\t\t2\t68fd1e64\t80e26c9b\tfb936136\t7b4723c4\t25c83c98\t7e0ccccf\tde7995b8\t1f89b562\ta73ee510\ta8cd5504\tb2cb9c98\t37c9c164\t2824a5f6\t1adce6ef\t8ba8b39a\t891b62e7\te5ba7672\tf54016b9\t21ddcdc9\tb1252a9d\t07b5194c\t\t3a171ecb\tc5c50484\te8b83407\t9727dd16\n"
     ]
    }
   ],
   "source": [
    "# take a look at the data\n",
    "!head -n 1 data/train.txt"
   ]
  },
  {
   "cell_type": "code",
   "execution_count": 5,
   "metadata": {},
   "outputs": [],
   "source": [
    "# load the data\n",
    "fullTrainRDD = sc.textFile('data/train.txt')\n",
    "testRDD = sc.textFile('data/test.txt')\n",
    "\n",
    "FIELDS = ['I1','I2','I3','I4','I5','I6','I7','I8','I9','I10','I11','I12','I13',\n",
    "          'C1','C2','C3','C4','C5','C6','C7','C8','C9','C10','C11','C12','C13','C14',\n",
    "          'C15','C16','C17','C18','C19','C20','C21','C22','C23','C24','C25','C26','Label']"
   ]
  },
  {
   "cell_type": "code",
   "execution_count": 6,
   "metadata": {},
   "outputs": [
    {
     "name": "stdout",
     "output_type": "stream",
     "text": [
      "Number of records in train data: 45840617 ...\n",
      "Number of records in test data: 6042135 ...\n"
     ]
    }
   ],
   "source": [
    "# number of rows in train/test data\n",
    "print(f\"Number of records in train data: {fullTrainRDD.count()} ...\")\n",
    "print(f\"Number of records in test data: {testRDD.count()} ...\")"
   ]
  },
  {
   "cell_type": "markdown",
   "metadata": {},
   "source": [
    "#### B. Creating Test and Train Split"
   ]
  },
  {
   "cell_type": "code",
   "execution_count": 9,
   "metadata": {},
   "outputs": [
    {
     "name": "stdout",
     "output_type": "stream",
     "text": [
      "... held out 9167871 records for evaluation and assigned 36672746 for training.\n"
     ]
    }
   ],
   "source": [
    "# Generate 80/20 (pseudo)random train/test split \n",
    "trainRDD, heldOutRDD = fullTrainRDD.randomSplit([0.8,0.2], seed = 1)\n",
    "print(f\"... held out {heldOutRDD.count()} records for evaluation and assigned {trainRDD.count()} for training.\")"
   ]
  },
  {
   "cell_type": "markdown",
   "metadata": {},
   "source": [
    "#### C. Preprocessing to get (features,label) RDD"
   ]
  },
  {
   "cell_type": "code",
   "execution_count": 371,
   "metadata": {},
   "outputs": [],
   "source": [
    "# helper functions\n",
    "def parse(line):\n",
    "    \"\"\"\n",
    "    Map line --> tuple of (features, label)\n",
    "    \"\"\"\n",
    "    fields = line.split('\\t')\n",
    "    features,label = fields[1:], fields[0]\n",
    "    return (features, label)\n",
    "\n",
    "def edit_data_types(line):\n",
    "    \"\"\"\n",
    "    Map tuple of (features, label) --> tuple of (formated features, label)\n",
    "    \n",
    "    * '' is replaced with 'null'\n",
    "    * numerical fields are converted to integers\n",
    "    * make label column numeric\n",
    "    \"\"\"\n",
    "    features, label = line[0], line[1]\n",
    "    formated_features = []\n",
    "    for i, value in enumerate(features):\n",
    "        if value == '':\n",
    "            formated_features.append(np.nan)\n",
    "        else:\n",
    "            if i < 13:\n",
    "                formated_features.append(float(value)) \n",
    "            else:\n",
    "                formated_features.append(value)\n",
    "    return (formated_features, int(label))"
   ]
  },
  {
   "cell_type": "code",
   "execution_count": 372,
   "metadata": {},
   "outputs": [],
   "source": [
    "# Making '' as np.nan and converting numerical features and output label to int\n",
    "trainRDDCached = trainRDD.map(parse).map(edit_data_types).cache()"
   ]
  },
  {
   "cell_type": "code",
   "execution_count": 373,
   "metadata": {},
   "outputs": [
    {
     "name": "stdout",
     "output_type": "stream",
     "text": [
      "[([1.0, 1.0, 5.0, 0.0, 1382.0, 4.0, 15.0, 2.0, 181.0, 1.0, 2.0, nan, 2.0, '68fd1e64', '80e26c9b', 'fb936136', '7b4723c4', '25c83c98', '7e0ccccf', 'de7995b8', '1f89b562', 'a73ee510', 'a8cd5504', 'b2cb9c98', '37c9c164', '2824a5f6', '1adce6ef', '8ba8b39a', '891b62e7', 'e5ba7672', 'f54016b9', '21ddcdc9', 'b1252a9d', '07b5194c', nan, '3a171ecb', 'c5c50484', 'e8b83407', '9727dd16'], 0)]\n"
     ]
    }
   ],
   "source": [
    "print(trainRDDCached.take(1))"
   ]
  },
  {
   "cell_type": "markdown",
   "metadata": {},
   "source": [
    "#### D. Extract 1000 records sample"
   ]
  },
  {
   "cell_type": "code",
   "execution_count": 14,
   "metadata": {},
   "outputs": [],
   "source": [
    "# Get 1000 records as a sample\n",
    "sample = trainRDDCached.map(lambda x: np.append(x[0], [x[1]])).takeSample(False, 1000)"
   ]
  },
  {
   "cell_type": "code",
   "execution_count": 121,
   "metadata": {},
   "outputs": [
    {
     "name": "stdout",
     "output_type": "stream",
     "text": [
      "(1000, 40)\n"
     ]
    }
   ],
   "source": [
    "# Making a pandas dataframe for 1000 samples from trainRDD\n",
    "sample_df = pd.DataFrame(np.array(sample), columns = FIELDS)\n",
    "\n",
    "# Shape \n",
    "print(sample_df.shape)\n",
    "\n",
    "# Converting numeric columns and label to int\n",
    "sample_df[['I1','I2','I3','I4','I5','I6','I7','I8','I9','I10','I11','I12','I13']] = sample_df[['I1','I2','I3','I4','I5','I6','I7','I8','I9','I10','I11','I12','I13']].apply(pd.to_numeric, errors='coerce')"
   ]
  },
  {
   "cell_type": "markdown",
   "metadata": {},
   "source": [
    "#### E. Sample Dataset - Numerical Features Analysis"
   ]
  },
  {
   "cell_type": "code",
   "execution_count": 95,
   "metadata": {},
   "outputs": [
    {
     "data": {
      "text/html": [
       "<div>\n",
       "<style scoped>\n",
       "    .dataframe tbody tr th:only-of-type {\n",
       "        vertical-align: middle;\n",
       "    }\n",
       "\n",
       "    .dataframe tbody tr th {\n",
       "        vertical-align: top;\n",
       "    }\n",
       "\n",
       "    .dataframe thead th {\n",
       "        text-align: right;\n",
       "    }\n",
       "</style>\n",
       "<table border=\"1\" class=\"dataframe\">\n",
       "  <thead>\n",
       "    <tr style=\"text-align: right;\">\n",
       "      <th></th>\n",
       "      <th>I1</th>\n",
       "      <th>I2</th>\n",
       "      <th>I3</th>\n",
       "      <th>I4</th>\n",
       "      <th>I5</th>\n",
       "      <th>I6</th>\n",
       "      <th>I7</th>\n",
       "      <th>I8</th>\n",
       "      <th>I9</th>\n",
       "      <th>I10</th>\n",
       "      <th>I11</th>\n",
       "      <th>I12</th>\n",
       "      <th>I13</th>\n",
       "    </tr>\n",
       "  </thead>\n",
       "  <tbody>\n",
       "    <tr>\n",
       "      <th>count</th>\n",
       "      <td>552.000000</td>\n",
       "      <td>1000.00000</td>\n",
       "      <td>776.000000</td>\n",
       "      <td>764.000000</td>\n",
       "      <td>9.790000e+02</td>\n",
       "      <td>783.000000</td>\n",
       "      <td>961.000000</td>\n",
       "      <td>1000.000000</td>\n",
       "      <td>961.000000</td>\n",
       "      <td>552.000000</td>\n",
       "      <td>961.000000</td>\n",
       "      <td>227.000000</td>\n",
       "      <td>764.000000</td>\n",
       "    </tr>\n",
       "    <tr>\n",
       "      <th>mean</th>\n",
       "      <td>3.532609</td>\n",
       "      <td>98.11700</td>\n",
       "      <td>17.645619</td>\n",
       "      <td>7.231675</td>\n",
       "      <td>1.903143e+04</td>\n",
       "      <td>108.006386</td>\n",
       "      <td>20.854318</td>\n",
       "      <td>11.879000</td>\n",
       "      <td>108.335068</td>\n",
       "      <td>0.625000</td>\n",
       "      <td>2.808533</td>\n",
       "      <td>1.638767</td>\n",
       "      <td>7.781414</td>\n",
       "    </tr>\n",
       "    <tr>\n",
       "      <th>std</th>\n",
       "      <td>9.128585</td>\n",
       "      <td>347.54356</td>\n",
       "      <td>36.671788</td>\n",
       "      <td>8.898289</td>\n",
       "      <td>7.785810e+04</td>\n",
       "      <td>270.890530</td>\n",
       "      <td>129.932296</td>\n",
       "      <td>12.771902</td>\n",
       "      <td>225.154938</td>\n",
       "      <td>0.670042</td>\n",
       "      <td>6.826783</td>\n",
       "      <td>6.981765</td>\n",
       "      <td>10.232071</td>\n",
       "    </tr>\n",
       "    <tr>\n",
       "      <th>min</th>\n",
       "      <td>0.000000</td>\n",
       "      <td>-2.00000</td>\n",
       "      <td>0.000000</td>\n",
       "      <td>0.000000</td>\n",
       "      <td>0.000000e+00</td>\n",
       "      <td>0.000000</td>\n",
       "      <td>0.000000</td>\n",
       "      <td>0.000000</td>\n",
       "      <td>0.000000</td>\n",
       "      <td>0.000000</td>\n",
       "      <td>0.000000</td>\n",
       "      <td>0.000000</td>\n",
       "      <td>0.000000</td>\n",
       "    </tr>\n",
       "    <tr>\n",
       "      <th>25%</th>\n",
       "      <td>0.000000</td>\n",
       "      <td>0.00000</td>\n",
       "      <td>2.000000</td>\n",
       "      <td>2.000000</td>\n",
       "      <td>3.950000e+02</td>\n",
       "      <td>8.000000</td>\n",
       "      <td>1.000000</td>\n",
       "      <td>2.000000</td>\n",
       "      <td>10.000000</td>\n",
       "      <td>0.000000</td>\n",
       "      <td>1.000000</td>\n",
       "      <td>0.000000</td>\n",
       "      <td>2.000000</td>\n",
       "    </tr>\n",
       "    <tr>\n",
       "      <th>50%</th>\n",
       "      <td>1.000000</td>\n",
       "      <td>3.00000</td>\n",
       "      <td>5.000000</td>\n",
       "      <td>4.000000</td>\n",
       "      <td>2.880000e+03</td>\n",
       "      <td>35.000000</td>\n",
       "      <td>3.000000</td>\n",
       "      <td>7.000000</td>\n",
       "      <td>42.000000</td>\n",
       "      <td>1.000000</td>\n",
       "      <td>1.000000</td>\n",
       "      <td>0.000000</td>\n",
       "      <td>4.000000</td>\n",
       "    </tr>\n",
       "    <tr>\n",
       "      <th>75%</th>\n",
       "      <td>3.000000</td>\n",
       "      <td>39.25000</td>\n",
       "      <td>16.000000</td>\n",
       "      <td>9.000000</td>\n",
       "      <td>1.017350e+04</td>\n",
       "      <td>98.500000</td>\n",
       "      <td>11.000000</td>\n",
       "      <td>18.000000</td>\n",
       "      <td>112.000000</td>\n",
       "      <td>1.000000</td>\n",
       "      <td>3.000000</td>\n",
       "      <td>1.000000</td>\n",
       "      <td>10.000000</td>\n",
       "    </tr>\n",
       "    <tr>\n",
       "      <th>max</th>\n",
       "      <td>115.000000</td>\n",
       "      <td>4393.00000</td>\n",
       "      <td>427.000000</td>\n",
       "      <td>73.000000</td>\n",
       "      <td>1.364227e+06</td>\n",
       "      <td>4301.000000</td>\n",
       "      <td>3107.000000</td>\n",
       "      <td>49.000000</td>\n",
       "      <td>3512.000000</td>\n",
       "      <td>4.000000</td>\n",
       "      <td>123.000000</td>\n",
       "      <td>68.000000</td>\n",
       "      <td>92.000000</td>\n",
       "    </tr>\n",
       "  </tbody>\n",
       "</table>\n",
       "</div>"
      ],
      "text/plain": [
       "               I1          I2          I3          I4            I5  \\\n",
       "count  552.000000  1000.00000  776.000000  764.000000  9.790000e+02   \n",
       "mean     3.532609    98.11700   17.645619    7.231675  1.903143e+04   \n",
       "std      9.128585   347.54356   36.671788    8.898289  7.785810e+04   \n",
       "min      0.000000    -2.00000    0.000000    0.000000  0.000000e+00   \n",
       "25%      0.000000     0.00000    2.000000    2.000000  3.950000e+02   \n",
       "50%      1.000000     3.00000    5.000000    4.000000  2.880000e+03   \n",
       "75%      3.000000    39.25000   16.000000    9.000000  1.017350e+04   \n",
       "max    115.000000  4393.00000  427.000000   73.000000  1.364227e+06   \n",
       "\n",
       "                I6           I7           I8           I9         I10  \\\n",
       "count   783.000000   961.000000  1000.000000   961.000000  552.000000   \n",
       "mean    108.006386    20.854318    11.879000   108.335068    0.625000   \n",
       "std     270.890530   129.932296    12.771902   225.154938    0.670042   \n",
       "min       0.000000     0.000000     0.000000     0.000000    0.000000   \n",
       "25%       8.000000     1.000000     2.000000    10.000000    0.000000   \n",
       "50%      35.000000     3.000000     7.000000    42.000000    1.000000   \n",
       "75%      98.500000    11.000000    18.000000   112.000000    1.000000   \n",
       "max    4301.000000  3107.000000    49.000000  3512.000000    4.000000   \n",
       "\n",
       "              I11         I12         I13  \n",
       "count  961.000000  227.000000  764.000000  \n",
       "mean     2.808533    1.638767    7.781414  \n",
       "std      6.826783    6.981765   10.232071  \n",
       "min      0.000000    0.000000    0.000000  \n",
       "25%      1.000000    0.000000    2.000000  \n",
       "50%      1.000000    0.000000    4.000000  \n",
       "75%      3.000000    1.000000   10.000000  \n",
       "max    123.000000   68.000000   92.000000  "
      ]
     },
     "execution_count": 95,
     "metadata": {},
     "output_type": "execute_result"
    }
   ],
   "source": [
    "# part a - Look at summary statistics of numeric columns\n",
    "sample_df.describe(exclude = [np.object])"
   ]
  },
  {
   "cell_type": "code",
   "execution_count": 144,
   "metadata": {},
   "outputs": [],
   "source": [
    "# Take a subset of the dataframe with only numeric features\n",
    "NUM_FIELDS = FIELDS[0:13]\n",
    "sample_numeric = sample_df[NUM_FIELDS]\n",
    "sample_numeric = sample_numeric.reindex(columns=NUM_FIELDS)"
   ]
  },
  {
   "cell_type": "code",
   "execution_count": 97,
   "metadata": {},
   "outputs": [
    {
     "data": {
      "image/png": "[encoded data removed]",
      "text/plain": [
       "<Figure size 1440x1080 with 16 Axes>"
      ]
     },
     "metadata": {},
     "output_type": "display_data"
    }
   ],
   "source": [
    "# part b - Take a look at histograms for each feature \n",
    "sample_numeric.hist(figsize=(20,15), bins=15)\n",
    "plt.show()"
   ]
  },
  {
   "cell_type": "code",
   "execution_count": 145,
   "metadata": {},
   "outputs": [
    {
     "data": {
      "image/png": "[encoded data removed]",
      "text/plain": [
       "<Figure size 1440x1080 with 15 Axes>"
      ]
     },
     "metadata": {},
     "output_type": "display_data"
    }
   ],
   "source": [
    "# part c -  plot boxplots of each feature vs. the outcome\n",
    "fig, ax_grid = plt.subplots(5, 3, figsize=(20,15))\n",
    "y = sample_df['Label']\n",
    "for idx, feature in enumerate(NUM_FIELDS):\n",
    "    x = sample_numeric[feature]\n",
    "    sns.boxplot(x, y, ax=ax_grid[idx//3][idx%3], orient='h', linewidth=.5)\n",
    "    ax_grid[idx//3][idx%3].invert_yaxis()\n",
    "fig.suptitle(\"BoxPlots by Label\", fontsize=15, y=0.9)\n",
    "plt.show()"
   ]
  },
  {
   "cell_type": "markdown",
   "metadata": {},
   "source": [
    "#### F. Sample Dataset - Categorical Numerical Features"
   ]
  },
  {
   "cell_type": "code",
   "execution_count": 104,
   "metadata": {},
   "outputs": [
    {
     "data": {
      "text/html": [
       "<div>\n",
       "<style scoped>\n",
       "    .dataframe tbody tr th:only-of-type {\n",
       "        vertical-align: middle;\n",
       "    }\n",
       "\n",
       "    .dataframe tbody tr th {\n",
       "        vertical-align: top;\n",
       "    }\n",
       "\n",
       "    .dataframe thead th {\n",
       "        text-align: right;\n",
       "    }\n",
       "</style>\n",
       "<table border=\"1\" class=\"dataframe\">\n",
       "  <thead>\n",
       "    <tr style=\"text-align: right;\">\n",
       "      <th></th>\n",
       "      <th>C1</th>\n",
       "      <th>C2</th>\n",
       "      <th>C3</th>\n",
       "      <th>C4</th>\n",
       "      <th>C5</th>\n",
       "      <th>C6</th>\n",
       "      <th>C7</th>\n",
       "      <th>C8</th>\n",
       "      <th>C9</th>\n",
       "      <th>C10</th>\n",
       "      <th>...</th>\n",
       "      <th>C18</th>\n",
       "      <th>C19</th>\n",
       "      <th>C20</th>\n",
       "      <th>C21</th>\n",
       "      <th>C22</th>\n",
       "      <th>C23</th>\n",
       "      <th>C24</th>\n",
       "      <th>C25</th>\n",
       "      <th>C26</th>\n",
       "      <th>Label</th>\n",
       "    </tr>\n",
       "  </thead>\n",
       "  <tbody>\n",
       "    <tr>\n",
       "      <th>count</th>\n",
       "      <td>1000</td>\n",
       "      <td>1000</td>\n",
       "      <td>1000</td>\n",
       "      <td>1000</td>\n",
       "      <td>1000</td>\n",
       "      <td>1000</td>\n",
       "      <td>1000</td>\n",
       "      <td>1000</td>\n",
       "      <td>1000</td>\n",
       "      <td>1000</td>\n",
       "      <td>...</td>\n",
       "      <td>1000</td>\n",
       "      <td>1000</td>\n",
       "      <td>1000</td>\n",
       "      <td>1000</td>\n",
       "      <td>1000</td>\n",
       "      <td>1000</td>\n",
       "      <td>1000</td>\n",
       "      <td>1000</td>\n",
       "      <td>1000</td>\n",
       "      <td>1000</td>\n",
       "    </tr>\n",
       "    <tr>\n",
       "      <th>unique</th>\n",
       "      <td>49</td>\n",
       "      <td>203</td>\n",
       "      <td>782</td>\n",
       "      <td>660</td>\n",
       "      <td>23</td>\n",
       "      <td>7</td>\n",
       "      <td>705</td>\n",
       "      <td>39</td>\n",
       "      <td>2</td>\n",
       "      <td>602</td>\n",
       "      <td>...</td>\n",
       "      <td>390</td>\n",
       "      <td>141</td>\n",
       "      <td>4</td>\n",
       "      <td>734</td>\n",
       "      <td>6</td>\n",
       "      <td>12</td>\n",
       "      <td>477</td>\n",
       "      <td>27</td>\n",
       "      <td>360</td>\n",
       "      <td>2</td>\n",
       "    </tr>\n",
       "    <tr>\n",
       "      <th>top</th>\n",
       "      <td>05db9164</td>\n",
       "      <td>38a947a1</td>\n",
       "      <td>nan</td>\n",
       "      <td>nan</td>\n",
       "      <td>25c83c98</td>\n",
       "      <td>7e0ccccf</td>\n",
       "      <td>468a0854</td>\n",
       "      <td>0b153874</td>\n",
       "      <td>a73ee510</td>\n",
       "      <td>3b08e48b</td>\n",
       "      <td>...</td>\n",
       "      <td>e88ffc9d</td>\n",
       "      <td>nan</td>\n",
       "      <td>nan</td>\n",
       "      <td>nan</td>\n",
       "      <td>nan</td>\n",
       "      <td>32c7478e</td>\n",
       "      <td>3fdb382b</td>\n",
       "      <td>nan</td>\n",
       "      <td>nan</td>\n",
       "      <td>0</td>\n",
       "    </tr>\n",
       "    <tr>\n",
       "      <th>freq</th>\n",
       "      <td>471</td>\n",
       "      <td>109</td>\n",
       "      <td>34</td>\n",
       "      <td>34</td>\n",
       "      <td>675</td>\n",
       "      <td>380</td>\n",
       "      <td>12</td>\n",
       "      <td>576</td>\n",
       "      <td>898</td>\n",
       "      <td>228</td>\n",
       "      <td>...</td>\n",
       "      <td>37</td>\n",
       "      <td>427</td>\n",
       "      <td>427</td>\n",
       "      <td>34</td>\n",
       "      <td>767</td>\n",
       "      <td>440</td>\n",
       "      <td>54</td>\n",
       "      <td>427</td>\n",
       "      <td>427</td>\n",
       "      <td>749</td>\n",
       "    </tr>\n",
       "  </tbody>\n",
       "</table>\n",
       "<p>4 rows × 27 columns</p>\n",
       "</div>"
      ],
      "text/plain": [
       "              C1        C2    C3    C4        C5        C6        C7  \\\n",
       "count       1000      1000  1000  1000      1000      1000      1000   \n",
       "unique        49       203   782   660        23         7       705   \n",
       "top     05db9164  38a947a1   nan   nan  25c83c98  7e0ccccf  468a0854   \n",
       "freq         471       109    34    34       675       380        12   \n",
       "\n",
       "              C8        C9       C10  ...        C18   C19   C20   C21   C22  \\\n",
       "count       1000      1000      1000  ...       1000  1000  1000  1000  1000   \n",
       "unique        39         2       602  ...        390   141     4   734     6   \n",
       "top     0b153874  a73ee510  3b08e48b  ...   e88ffc9d   nan   nan   nan   nan   \n",
       "freq         576       898       228  ...         37   427   427    34   767   \n",
       "\n",
       "             C23       C24   C25   C26 Label  \n",
       "count       1000      1000  1000  1000  1000  \n",
       "unique        12       477    27   360     2  \n",
       "top     32c7478e  3fdb382b   nan   nan     0  \n",
       "freq         440        54   427   427   749  \n",
       "\n",
       "[4 rows x 27 columns]"
      ]
     },
     "execution_count": 104,
     "metadata": {},
     "output_type": "execute_result"
    }
   ],
   "source": [
    "# part a - Look at summary statistics of categorical columns (includes label column)\n",
    "sample_df.describe(exclude = [np.number])"
   ]
  },
  {
   "cell_type": "markdown",
   "metadata": {},
   "source": [
    "#### G. Sample Dataset - Correlation between numerical features"
   ]
  },
  {
   "cell_type": "code",
   "execution_count": 118,
   "metadata": {},
   "outputs": [
    {
     "data": {
      "image/png": "[encoded data removed]",
      "text/plain": [
       "<Figure size 504x504 with 2 Axes>"
      ]
     },
     "metadata": {},
     "output_type": "display_data"
    }
   ],
   "source": [
    "corr = sample_numeric.corr()\n",
    "fig, ax = plt.subplots(figsize=(7, 7))\n",
    "mask = np.zeros_like(corr, dtype=np.bool)\n",
    "mask[np.triu_indices_from(mask)] = True\n",
    "cmap = sns.diverging_palette(10, 240, as_cmap=False)\n",
    "sns.heatmap(corr, mask=mask, cmap=cmap, center=0, linewidths=.2)\n",
    "plt.title(\"Correlations between features\")\n",
    "plt.show()"
   ]
  },
  {
   "cell_type": "markdown",
   "metadata": {},
   "source": [
    "#### H - A Sample Dataset Analysis using PySpark DataFrames"
   ]
  },
  {
   "cell_type": "code",
   "execution_count": 334,
   "metadata": {},
   "outputs": [
    {
     "data": {
      "text/plain": [
       "[Row(I1=0.0, I2=1113.0, I3=None, I4=None, I5=40124.0, I6=None, I7=None, I8=0.0, I9=None, I10=0.0, I11=None, I12=None, I13=None, C1='05db9164', C2='90081f33', C3='4534623a', C4='d3e9185c', C5='25c83c98', C6='fe6b92e5', C7='d130cbd1', C8='51d76abe', C9='a73ee510', C10='d422ad04', C11='9a422971', C12='91961646', C13='174e4cac', C14='b28479f6', C15='50b07d60', C16='c4f03387', C17='d4bb7bd8', C18='7da6ea7e', C19='nan', C20='nan', C21='af895155', C22='nan', C23='32c7478e', C24='359dd977', C25='nan', C26='nan', Label='0')]"
      ]
     },
     "execution_count": 334,
     "metadata": {},
     "output_type": "execute_result"
    }
   ],
   "source": [
    "sampleRDD = sc.parallelize(sample)\n",
    "sampleDF = sampleRDD.map(lambda x: x.tolist()).toDF(FIELDS)\n",
    "sampleDF = sampleDF.select([sampleDF.I1.cast(\"float\"),sampleDF.I2.cast(\"float\"),sampleDF.I3.cast(\"float\"),sampleDF.I4.cast(\"float\"),sampleDF.I5.cast(\"float\"),\n",
    "                            sampleDF.I6.cast(\"float\"),sampleDF.I7.cast(\"float\"),sampleDF.I8.cast(\"float\"),sampleDF.I9.cast(\"float\"),sampleDF.I10.cast(\"float\"),\n",
    "                            sampleDF.I11.cast(\"float\"),sampleDF.I12.cast(\"float\"),sampleDF.I13.cast(\"float\"), \n",
    "                            sampleDF.C1, sampleDF.C2, sampleDF.C3, sampleDF.C4, sampleDF.C5, sampleDF.C6, sampleDF.C7, sampleDF.C8,sampleDF.C9,sampleDF.C10,\n",
    "                            sampleDF.C11,sampleDF.C12,sampleDF.C13,sampleDF.C14, sampleDF.C15,sampleDF.C16, sampleDF.C17, sampleDF.C18, sampleDF.C19,\n",
    "                            sampleDF.C20,sampleDF.C21,sampleDF.C22,sampleDF.C23,sampleDF.C24,sampleDF.C25,sampleDF.C26,sampleDF.Label])\n",
    "sampleDF.head(1)"
   ]
  },
  {
   "cell_type": "code",
   "execution_count": 369,
   "metadata": {},
   "outputs": [
    {
     "name": "stdout",
     "output_type": "stream",
     "text": [
      "[Row(C26_freqItems=['nan', '49d68486', 'a68ab18c'])]\n",
      "[Row(Label_freqItems=['1', '0'])]\n",
      "[Row(C1_freqItems=['be589b51', '87552397', '8cf07265', '05db9164', '68fd1e64', '5a9ed9b0', '5bfa8ab5'])]\n",
      "[Row(C10_freqItems=['3b08e48b', '935a36f0', '5168789b'])]\n",
      "[Row(C7_freqItems=['6d490d7a', '4bbbd783', 'c4231034', '48ed6f4d', '9b98e9fc', '270fb9d7', 'b0da3612', 'dc7659bd', '99609181', 'c6c2ab11'])]\n",
      "[Row(C9_freqItems=['a73ee510', '7cc72ec2'])]\n",
      "[Row(C16_freqItems=['b688c8cc', 'b2844888', 'ba46c3a1', '9137a27f', 'b041b04a', '5fbf4a84', '57aba9d2', 'e2e2fcd9', '0b442a80', 'd1a4e968'])]\n",
      "[Row(C6_freqItems=['6f6d9be8', '13718bbd', 'fbad5c96', 'nan', '3bf701e7', '7e0ccccf', 'fe6b92e5'])]\n",
      "[Row(C25_freqItems=['ea9a246c', 'f0f449dd', 'cb079c2d', '445bbe3b', 'nan', '010f6491', '9b3e8820', 'e8b83407', '001f3601', '2bf691b1'])]\n",
      "[Row(C21_freqItems=['2e9b1af0', '723b4dfd', 'b964dee0', '2754aaf1', 'ac498960', '9fb07dd2', 'deb9605d', 'eb0fc6f8', '4b1d1e4e', 'cf1c5dfc'])]\n",
      "[Row(C19_freqItems=['efa3470f', '55dd3565', '4c3f8eb8', 'nan', '8be2041b', 'a4c44aaf', '21ddcdc9', '9653bb65', 'af7c4727'])]\n",
      "[Row(C3_freqItems=['583a5afa', '2b8f3e48', '7c0cb4a6', 'c86b2d8d', 'e062815e', '0d711f1e', '7a4c7b75', 'fd22e418', 'b009d929', '223b0e16'])]\n",
      "[Row(C18_freqItems=['1999bae9', 'c191a3ff', '23fb8a75', '2804effd', '966c77d8', '891589e7', 'be645006', 'fffe2a63', '6eb2b18a', 'ca6a63cf'])]\n",
      "[Row(C15_freqItems=['e2275836', '950307af', '7d4df900', '2d0bb053', '10040656', '13f8263b', 'b27dd6c7', '42e41d92', '98a7a09e', 'a5c62993'])]\n",
      "[Row(C4_freqItems=['f922efad', '657dc3b9', '2d3b257b', 'c7043c4b', 'ca55061c', '36375a46', 'b1231540', '7a739d42', '29998ed1', '49135fe2'])]\n",
      "[Row(C24_freqItems=['df487a73', 'e448275f', '9fa3e01a', 'b34f3128', '3b183c5c', '08b0ce98', '3fdb382b'])]\n",
      "[Row(C12_freqItems=['70821f4a', '156f99ef', '1366643a', 'a166e161', 'ed679937', 'f1ce2ed4', '3563ab62', '1ca7a526', '6aaba33c', 'fb991bf5'])]\n",
      "[Row(C5_freqItems=['25c83c98', 'b0530c50', 'f281d2a7', 'f7109724', '4cf72387', '384874ce', '0942e0a7', '43b19349', '30903e74'])]\n",
      "[Row(C2_freqItems=['86d4fccc', 'ae46a29d', '38a947a1', '0b8e9caf', '287130e0', '38d50e09', '421b43cd', '207b2d81', '90081f33', '73a46ff0'])]\n",
      "[Row(C11_freqItems=['c4bd1c72', '46c9b866', '1808565a', '8e1e7f74', '158e4baf', 'd1f0b2fd', '5874c9c9', '7f8ffe57', 'e51ddf94', '77212bd7'])]\n",
      "[Row(C8_freqItems=['062b5529', '6c41e35e', '5b392875', '64523cfa', '985e3fcb', '51d76abe', 'c8ddd494', '37e4aa92', '1f89b562', '0b153874'])]\n",
      "[Row(C20_freqItems=['nan', 'a458ea53', '5840adea', 'b1252a9d'])]\n",
      "[Row(C14_freqItems=['64c94865', '07d13a8f', 'b28479f6', '1adce6ef', 'f862f261', '243a4e68', 'cfef1c29', '051219e6', 'd2dfe871', '8ceecbc8'])]\n",
      "[Row(C13_freqItems=['26739be1', '3516f6e6', '740c210d', '7203f04e', 'b8e3f3c4', '6ed5acef', '708ad459', '369e2611', '46f42a63', 'bcfc54a9'])]\n",
      "[Row(C17_freqItems=['2005abd1', 'd4bb7bd8', '07c540c4', '776ce399', '1e88c74f', '27c07bd6', 'e5ba7672', '8efede7f', '3486227d'])]\n",
      "[Row(C22_freqItems=['nan', 'c0061c6d', 'c9d4222a', '8ec974f4', '78e2e389', 'ad3062eb'])]\n",
      "[Row(C23_freqItems=['55dd3565', 'c7dc6720', '3a171ecb', '32c7478e', 'be7c41b4', '423fab69', 'bcdee96c', 'c3dc6cef', '93bad2c0', 'dbb486d7'])]\n"
     ]
    }
   ],
   "source": [
    "# Get categorical columns most frequently occuring values\n",
    "for field in list(set(FIELDS)-set(NUM_FIELDS)):\n",
    "    freq = sampleDF.stat.freqItems([field], 0.1)\n",
    "    print(freq.collect())"
   ]
  },
  {
   "cell_type": "code",
   "execution_count": 368,
   "metadata": {},
   "outputs": [
    {
     "name": "stdout",
     "output_type": "stream",
     "text": [
      "+-------+-----+------+-----+-----+---------+------+------+------+------+-----+-----+-----+-----+\n",
      "|summary|   I1|    I2|   I3|   I4|       I5|    I6|    I7|    I8|    I9|  I10|  I11|  I12|  I13|\n",
      "+-------+-----+------+-----+-----+---------+------+------+------+------+-----+-----+-----+-----+\n",
      "|  count|552.0|1000.0|776.0|764.0|    979.0| 783.0| 961.0|1000.0| 961.0|552.0|961.0|227.0|764.0|\n",
      "|   mean| 3.53| 98.12|17.65| 7.23| 19031.43|108.01| 20.85| 11.88|108.34| 0.63| 2.81| 1.64| 7.78|\n",
      "| stddev| 9.13|347.54|36.67|  8.9|  77858.1|270.89|129.93| 12.77|225.15| 0.67| 6.83| 6.98|10.23|\n",
      "|    min|  0.0|  -2.0|  0.0|  0.0|      0.0|   0.0|   0.0|   0.0|   0.0|  0.0|  0.0|  0.0|  0.0|\n",
      "|    25%|  0.0|   0.0|  2.0|  2.0|    393.0|   8.0|   1.0|   2.0|  10.0|  0.0|  1.0|  0.0|  2.0|\n",
      "|    50%|  1.0|   3.0|  5.0|  4.0|   2880.0|  35.0|   3.0|   7.0|  42.0|  1.0|  1.0|  0.0|  4.0|\n",
      "|    75%|  3.0|  39.0| 16.0|  9.0|  10177.0|  99.0|  11.0|  18.0| 112.0|  1.0|  3.0|  1.0| 10.0|\n",
      "|    max|115.0|4393.0|427.0| 73.0|1364227.0|4301.0|3107.0|  49.0|3512.0|  4.0|123.0| 68.0| 92.0|\n",
      "+-------+-----+------+-----+-----+---------+------+------+------+------+-----+-----+-----+-----+\n",
      "\n"
     ]
    }
   ],
   "source": [
    "# Get numeric features summary stats\n",
    "summaryDF = sampleDF[[NUM_FIELDS]].summary()\n",
    "\n",
    "# Round summary stats\n",
    "import pyspark.sql.functions as func\n",
    "for field in NUM_FIELDS:\n",
    "    summaryDF = summaryDF.withColumn(field, func.round(summaryDF[field], 2))\n",
    "\n",
    "# Display summary stats\n",
    "summaryDF.show()\n",
    "\n",
    "############################# OLD CODE ################################\n",
    "\n",
    "# IF SAMPLE DF NUMERIC COLUMNS ARE NOT CAST AS FLOAT - NEED TO USE BELOW\n",
    "\n",
    "#def blank_as_null(x):\n",
    "#    return when(col(x) != \"None\", col(x)).otherwise(None)\n",
    "\n",
    "#for field in NUM_FIELDS:\n",
    "    #sampleDF[[field]].summary().show()\n",
    "    #subsetDF = sampleDF[[field]] # create a subset DF with column needed\n",
    "    #subsetDFEmptyReplaced = subsetDF.withColumn(subsetDF.columns[0], blank_as_null(subsetDF.columns[0])) # remove 'nan' rows\n",
    "    #subsetDFEmptyReplaced.summary().show() "
   ]
  },
  {
   "cell_type": "markdown",
   "metadata": {},
   "source": [
    "#### H - B TrainRDD Dataset Analysis using PySpark DataFrames"
   ]
  },
  {
   "cell_type": "code",
   "execution_count": null,
   "metadata": {},
   "outputs": [],
   "source": [
    "trainDF = trainRDDCached.map(lambda x: np.append(x[0], [x[1]])).map(lambda x: x.tolist()).toDF(FIELDS)\n",
    "trainDF = trainDF.select([trainDF.I1.cast(\"float\"),trainDF.I2.cast(\"float\"),trainDF.I3.cast(\"float\"),trainDF.I4.cast(\"float\"),trainDF.I5.cast(\"float\"),\n",
    "                            trainDF.I6.cast(\"float\"),trainDF.I7.cast(\"float\"),trainDF.I8.cast(\"float\"),trainDF.I9.cast(\"float\"),trainDF.I10.cast(\"float\"),\n",
    "                            trainDF.I11.cast(\"float\"),trainDF.I12.cast(\"float\"),trainDF.I13.cast(\"float\"), \n",
    "                            trainDF.C1, trainDF.C2, trainDF.C3, trainDF.C4, trainDF.C5, trainDF.C6, trainDF.C7, trainDF.C8,trainDF.C9,trainDF.C10,\n",
    "                            trainDF.C11,trainDF.C12,trainDF.C13,trainDF.C14, trainDF.C15,trainDF.C16, trainDF.C17, trainDF.C18, trainDF.C19,\n",
    "                            trainDF.C20,trainDF.C21,trainDF.C22,trainDF.C23,trainDF.C24,trainDF.C25,trainDF.C26,trainDF.Label])\n",
    "# Get one row\n",
    "trainDF.head(1)\n",
    "\n",
    "# Get categorical columns most frequently occuring values\n",
    "for field in list(set(FIELDS)-set(NUM_FIELDS)):\n",
    "    freq = trainDF.stat.freqItems([field], 0.1)\n",
    "    print(freq.collect())\n",
    "    \n",
    "# Get numeric features summary stats    \n",
    "summaryDF = trainDF[[NUM_FIELDS]].summary()\n",
    "\n",
    "# Round summary stats\n",
    "import pyspark.sql.functions as func\n",
    "for field in NUM_FIELDS:\n",
    "    summaryDF = summaryDF.withColumn(field, func.round(summaryDF[field], 2))\n",
    "\n",
    "# Display summary stats\n",
    "summaryDF.show()"
   ]
  },
  {
   "cell_type": "markdown",
   "metadata": {},
   "source": [
    "#### I. Getting count of numerical features bucket wise "
   ]
  },
  {
   "cell_type": "code",
   "execution_count": 404,
   "metadata": {},
   "outputs": [],
   "source": [
    "def bucket_values(line):\n",
    "    \"\"\"\n",
    "    Map tuple of (features, label) --> tuple of (formated features, label)\n",
    "    \n",
    "    * '' is replaced with 'null'\n",
    "    * numerical fields are converted to integers\n",
    "    * make label column numeric\n",
    "    \"\"\"\n",
    "    features, label = line[0], line[1]\n",
    "    formated_features = []\n",
    "    for i, value in enumerate(features[0:13]):\n",
    "        if value == '':\n",
    "            formated_features.append(\"NA\")\n",
    "        else:\n",
    "            value = float(value)\n",
    "            if value < 0:\n",
    "                formated_features.append(\"A\")\n",
    "            elif value >=0 and value < 100 :\n",
    "                formated_features.append(\"B\")\n",
    "            elif value >=100 and value < 500:\n",
    "                formated_features.append(\"C\")\n",
    "            elif value >=500 and value < 1000:\n",
    "                formated_features.append(\"D\")\n",
    "            elif value >=1000 and value < 5000:\n",
    "                formated_features.append(\"E\")\n",
    "            elif value >=5000 and value < 10000:\n",
    "                formated_features.append(\"F\")\n",
    "            else: #value >= 10000\n",
    "                formated_features.append(\"G\")\n",
    "    return formated_features"
   ]
  },
  {
   "cell_type": "code",
   "execution_count": 388,
   "metadata": {},
   "outputs": [],
   "source": [
    "sampleRDD = trainRDDCached.takeSample(False, 100).cache()"
   ]
  },
  {
   "cell_type": "code",
   "execution_count": 405,
   "metadata": {},
   "outputs": [],
   "source": [
    "bucketRDD = sc.parallelize(sampleRDD).map(bucket_values).cache()"
   ]
  },
  {
   "cell_type": "code",
   "execution_count": 407,
   "metadata": {},
   "outputs": [
    {
     "ename": "Py4JJavaError",
     "evalue": "An error occurred while calling z:org.apache.spark.api.python.PythonRDD.collectAndServe.\n: org.apache.spark.SparkException: Job aborted due to stage failure: Task 0 in stage 774.0 failed 1 times, most recent failure: Lost task 0.0 in stage 774.0 (TID 6774, localhost, executor driver): org.apache.spark.api.python.PythonException: Traceback (most recent call last):\n  File \"/opt/spark/python/lib/pyspark.zip/pyspark/worker.py\", line 230, in main\n    process()\n  File \"/opt/spark/python/lib/pyspark.zip/pyspark/worker.py\", line 225, in process\n    serializer.dump_stream(func(split_index, iterator), outfile)\n  File \"/opt/anaconda/lib/python3.6/site-packages/pyspark-2.3.1-py3.6.egg/pyspark/rdd.py\", line 2457, in pipeline_func\n    return func(split, prev_func(split, iterator))\n  File \"/opt/anaconda/lib/python3.6/site-packages/pyspark-2.3.1-py3.6.egg/pyspark/rdd.py\", line 2457, in pipeline_func\n    return func(split, prev_func(split, iterator))\n  File \"/opt/anaconda/lib/python3.6/site-packages/pyspark-2.3.1-py3.6.egg/pyspark/rdd.py\", line 370, in func\n    return f(iterator)\n  File \"/opt/anaconda/lib/python3.6/site-packages/pyspark-2.3.1-py3.6.egg/pyspark/rdd.py\", line 1876, in combineLocally\n    merger.mergeValues(iterator)\n  File \"/opt/spark/python/lib/pyspark.zip/pyspark/shuffle.py\", line 239, in mergeValues\n    d[k] = comb(d[k], v) if k in d else creator(v)\n  File \"/opt/anaconda/lib/python3.6/site-packages/pyspark-2.3.1-py3.6.egg/pyspark/util.py\", line 55, in wrapper\n    return f(*args, **kwargs)\nTypeError: 'int' object is not iterable\n\n\tat org.apache.spark.api.python.BasePythonRunner$ReaderIterator.handlePythonException(PythonRunner.scala:298)\n\tat org.apache.spark.api.python.PythonRunner$$anon$1.read(PythonRunner.scala:438)\n\tat org.apache.spark.api.python.PythonRunner$$anon$1.read(PythonRunner.scala:421)\n\tat org.apache.spark.api.python.BasePythonRunner$ReaderIterator.hasNext(PythonRunner.scala:252)\n\tat org.apache.spark.InterruptibleIterator.hasNext(InterruptibleIterator.scala:37)\n\tat scala.collection.Iterator$GroupedIterator.fill(Iterator.scala:1126)\n\tat scala.collection.Iterator$GroupedIterator.hasNext(Iterator.scala:1132)\n\tat scala.collection.Iterator$$anon$11.hasNext(Iterator.scala:408)\n\tat org.apache.spark.shuffle.sort.BypassMergeSortShuffleWriter.write(BypassMergeSortShuffleWriter.java:125)\n\tat org.apache.spark.scheduler.ShuffleMapTask.runTask(ShuffleMapTask.scala:96)\n\tat org.apache.spark.scheduler.ShuffleMapTask.runTask(ShuffleMapTask.scala:53)\n\tat org.apache.spark.scheduler.Task.run(Task.scala:109)\n\tat org.apache.spark.executor.Executor$TaskRunner.run(Executor.scala:345)\n\tat java.util.concurrent.ThreadPoolExecutor.runWorker(ThreadPoolExecutor.java:1142)\n\tat java.util.concurrent.ThreadPoolExecutor$Worker.run(ThreadPoolExecutor.java:617)\n\tat java.lang.Thread.run(Thread.java:748)\n\nDriver stacktrace:\n\tat org.apache.spark.scheduler.DAGScheduler.org$apache$spark$scheduler$DAGScheduler$$failJobAndIndependentStages(DAGScheduler.scala:1602)\n\tat org.apache.spark.scheduler.DAGScheduler$$anonfun$abortStage$1.apply(DAGScheduler.scala:1590)\n\tat org.apache.spark.scheduler.DAGScheduler$$anonfun$abortStage$1.apply(DAGScheduler.scala:1589)\n\tat scala.collection.mutable.ResizableArray$class.foreach(ResizableArray.scala:59)\n\tat scala.collection.mutable.ArrayBuffer.foreach(ArrayBuffer.scala:48)\n\tat org.apache.spark.scheduler.DAGScheduler.abortStage(DAGScheduler.scala:1589)\n\tat org.apache.spark.scheduler.DAGScheduler$$anonfun$handleTaskSetFailed$1.apply(DAGScheduler.scala:831)\n\tat org.apache.spark.scheduler.DAGScheduler$$anonfun$handleTaskSetFailed$1.apply(DAGScheduler.scala:831)\n\tat scala.Option.foreach(Option.scala:257)\n\tat org.apache.spark.scheduler.DAGScheduler.handleTaskSetFailed(DAGScheduler.scala:831)\n\tat org.apache.spark.scheduler.DAGSchedulerEventProcessLoop.doOnReceive(DAGScheduler.scala:1823)\n\tat org.apache.spark.scheduler.DAGSchedulerEventProcessLoop.onReceive(DAGScheduler.scala:1772)\n\tat org.apache.spark.scheduler.DAGSchedulerEventProcessLoop.onReceive(DAGScheduler.scala:1761)\n\tat org.apache.spark.util.EventLoop$$anon$1.run(EventLoop.scala:48)\n\tat org.apache.spark.scheduler.DAGScheduler.runJob(DAGScheduler.scala:642)\n\tat org.apache.spark.SparkContext.runJob(SparkContext.scala:2034)\n\tat org.apache.spark.SparkContext.runJob(SparkContext.scala:2055)\n\tat org.apache.spark.SparkContext.runJob(SparkContext.scala:2074)\n\tat org.apache.spark.SparkContext.runJob(SparkContext.scala:2099)\n\tat org.apache.spark.rdd.RDD$$anonfun$collect$1.apply(RDD.scala:939)\n\tat org.apache.spark.rdd.RDDOperationScope$.withScope(RDDOperationScope.scala:151)\n\tat org.apache.spark.rdd.RDDOperationScope$.withScope(RDDOperationScope.scala:112)\n\tat org.apache.spark.rdd.RDD.withScope(RDD.scala:363)\n\tat org.apache.spark.rdd.RDD.collect(RDD.scala:938)\n\tat org.apache.spark.api.python.PythonRDD$.collectAndServe(PythonRDD.scala:162)\n\tat org.apache.spark.api.python.PythonRDD.collectAndServe(PythonRDD.scala)\n\tat sun.reflect.GeneratedMethodAccessor394.invoke(Unknown Source)\n\tat sun.reflect.DelegatingMethodAccessorImpl.invoke(DelegatingMethodAccessorImpl.java:43)\n\tat java.lang.reflect.Method.invoke(Method.java:498)\n\tat py4j.reflection.MethodInvoker.invoke(MethodInvoker.java:244)\n\tat py4j.reflection.ReflectionEngine.invoke(ReflectionEngine.java:357)\n\tat py4j.Gateway.invoke(Gateway.java:282)\n\tat py4j.commands.AbstractCommand.invokeMethod(AbstractCommand.java:132)\n\tat py4j.commands.CallCommand.execute(CallCommand.java:79)\n\tat py4j.GatewayConnection.run(GatewayConnection.java:238)\n\tat java.lang.Thread.run(Thread.java:748)\nCaused by: org.apache.spark.api.python.PythonException: Traceback (most recent call last):\n  File \"/opt/spark/python/lib/pyspark.zip/pyspark/worker.py\", line 230, in main\n    process()\n  File \"/opt/spark/python/lib/pyspark.zip/pyspark/worker.py\", line 225, in process\n    serializer.dump_stream(func(split_index, iterator), outfile)\n  File \"/opt/anaconda/lib/python3.6/site-packages/pyspark-2.3.1-py3.6.egg/pyspark/rdd.py\", line 2457, in pipeline_func\n    return func(split, prev_func(split, iterator))\n  File \"/opt/anaconda/lib/python3.6/site-packages/pyspark-2.3.1-py3.6.egg/pyspark/rdd.py\", line 2457, in pipeline_func\n    return func(split, prev_func(split, iterator))\n  File \"/opt/anaconda/lib/python3.6/site-packages/pyspark-2.3.1-py3.6.egg/pyspark/rdd.py\", line 370, in func\n    return f(iterator)\n  File \"/opt/anaconda/lib/python3.6/site-packages/pyspark-2.3.1-py3.6.egg/pyspark/rdd.py\", line 1876, in combineLocally\n    merger.mergeValues(iterator)\n  File \"/opt/spark/python/lib/pyspark.zip/pyspark/shuffle.py\", line 239, in mergeValues\n    d[k] = comb(d[k], v) if k in d else creator(v)\n  File \"/opt/anaconda/lib/python3.6/site-packages/pyspark-2.3.1-py3.6.egg/pyspark/util.py\", line 55, in wrapper\n    return f(*args, **kwargs)\nTypeError: 'int' object is not iterable\n\n\tat org.apache.spark.api.python.BasePythonRunner$ReaderIterator.handlePythonException(PythonRunner.scala:298)\n\tat org.apache.spark.api.python.PythonRunner$$anon$1.read(PythonRunner.scala:438)\n\tat org.apache.spark.api.python.PythonRunner$$anon$1.read(PythonRunner.scala:421)\n\tat org.apache.spark.api.python.BasePythonRunner$ReaderIterator.hasNext(PythonRunner.scala:252)\n\tat org.apache.spark.InterruptibleIterator.hasNext(InterruptibleIterator.scala:37)\n\tat scala.collection.Iterator$GroupedIterator.fill(Iterator.scala:1126)\n\tat scala.collection.Iterator$GroupedIterator.hasNext(Iterator.scala:1132)\n\tat scala.collection.Iterator$$anon$11.hasNext(Iterator.scala:408)\n\tat org.apache.spark.shuffle.sort.BypassMergeSortShuffleWriter.write(BypassMergeSortShuffleWriter.java:125)\n\tat org.apache.spark.scheduler.ShuffleMapTask.runTask(ShuffleMapTask.scala:96)\n\tat org.apache.spark.scheduler.ShuffleMapTask.runTask(ShuffleMapTask.scala:53)\n\tat org.apache.spark.scheduler.Task.run(Task.scala:109)\n\tat org.apache.spark.executor.Executor$TaskRunner.run(Executor.scala:345)\n\tat java.util.concurrent.ThreadPoolExecutor.runWorker(ThreadPoolExecutor.java:1142)\n\tat java.util.concurrent.ThreadPoolExecutor$Worker.run(ThreadPoolExecutor.java:617)\n\t... 1 more\n",
     "output_type": "error",
     "traceback": [
      "\u001b[0;31m\u001b[0m",
      "\u001b[0;31mPy4JJavaError\u001b[0mTraceback (most recent call last)",
      "\u001b[0;32m<ipython-input-407-69e7c8587d5e>\u001b[0m in \u001b[0;36m<module>\u001b[0;34m()\u001b[0m\n\u001b[1;32m      4\u001b[0m \u001b[0;32mfor\u001b[0m \u001b[0mi\u001b[0m\u001b[0;34m,\u001b[0m \u001b[0mfield\u001b[0m \u001b[0;32min\u001b[0m \u001b[0menumerate\u001b[0m\u001b[0;34m(\u001b[0m\u001b[0mNUM_FIELDS\u001b[0m\u001b[0;34m)\u001b[0m\u001b[0;34m:\u001b[0m\u001b[0;34m\u001b[0m\u001b[0m\n\u001b[1;32m      5\u001b[0m     \u001b[0mcountsRDD\u001b[0m \u001b[0;34m=\u001b[0m \u001b[0mbucketRDD\u001b[0m\u001b[0;34m.\u001b[0m\u001b[0mmap\u001b[0m\u001b[0;34m(\u001b[0m\u001b[0;32mlambda\u001b[0m \u001b[0mx\u001b[0m\u001b[0;34m:\u001b[0m \u001b[0;34m(\u001b[0m\u001b[0mx\u001b[0m\u001b[0;34m[\u001b[0m\u001b[0mi\u001b[0m\u001b[0;34m]\u001b[0m\u001b[0;34m,\u001b[0m\u001b[0;36m1\u001b[0m\u001b[0;34m)\u001b[0m\u001b[0;34m)\u001b[0m\u001b[0;34m.\u001b[0m\u001b[0mreduceByKey\u001b[0m\u001b[0;34m(\u001b[0m\u001b[0msum\u001b[0m\u001b[0;34m)\u001b[0m\u001b[0;34m\u001b[0m\u001b[0m\n\u001b[0;32m----> 6\u001b[0;31m     \u001b[0mcountPandasDF\u001b[0m\u001b[0;34m.\u001b[0m\u001b[0miloc\u001b[0m\u001b[0;34m[\u001b[0m\u001b[0;34m[\u001b[0m\u001b[0mfield\u001b[0m\u001b[0;34m]\u001b[0m\u001b[0;34m]\u001b[0m \u001b[0;34m=\u001b[0m \u001b[0mnp\u001b[0m\u001b[0;34m.\u001b[0m\u001b[0marray\u001b[0m\u001b[0;34m(\u001b[0m\u001b[0mcountsRDD\u001b[0m\u001b[0;34m.\u001b[0m\u001b[0mcollect\u001b[0m\u001b[0;34m(\u001b[0m\u001b[0;34m)\u001b[0m\u001b[0;34m)\u001b[0m\u001b[0;34m\u001b[0m\u001b[0m\n\u001b[0m",
      "\u001b[0;32m/opt/anaconda/lib/python3.6/site-packages/pyspark-2.3.1-py3.6.egg/pyspark/rdd.py\u001b[0m in \u001b[0;36mcollect\u001b[0;34m(self)\u001b[0m\n\u001b[1;32m    832\u001b[0m         \"\"\"\n\u001b[1;32m    833\u001b[0m         \u001b[0;32mwith\u001b[0m \u001b[0mSCCallSiteSync\u001b[0m\u001b[0;34m(\u001b[0m\u001b[0mself\u001b[0m\u001b[0;34m.\u001b[0m\u001b[0mcontext\u001b[0m\u001b[0;34m)\u001b[0m \u001b[0;32mas\u001b[0m \u001b[0mcss\u001b[0m\u001b[0;34m:\u001b[0m\u001b[0;34m\u001b[0m\u001b[0m\n\u001b[0;32m--> 834\u001b[0;31m             \u001b[0msock_info\u001b[0m \u001b[0;34m=\u001b[0m \u001b[0mself\u001b[0m\u001b[0;34m.\u001b[0m\u001b[0mctx\u001b[0m\u001b[0;34m.\u001b[0m\u001b[0m_jvm\u001b[0m\u001b[0;34m.\u001b[0m\u001b[0mPythonRDD\u001b[0m\u001b[0;34m.\u001b[0m\u001b[0mcollectAndServe\u001b[0m\u001b[0;34m(\u001b[0m\u001b[0mself\u001b[0m\u001b[0;34m.\u001b[0m\u001b[0m_jrdd\u001b[0m\u001b[0;34m.\u001b[0m\u001b[0mrdd\u001b[0m\u001b[0;34m(\u001b[0m\u001b[0;34m)\u001b[0m\u001b[0;34m)\u001b[0m\u001b[0;34m\u001b[0m\u001b[0m\n\u001b[0m\u001b[1;32m    835\u001b[0m         \u001b[0;32mreturn\u001b[0m \u001b[0mlist\u001b[0m\u001b[0;34m(\u001b[0m\u001b[0m_load_from_socket\u001b[0m\u001b[0;34m(\u001b[0m\u001b[0msock_info\u001b[0m\u001b[0;34m,\u001b[0m \u001b[0mself\u001b[0m\u001b[0;34m.\u001b[0m\u001b[0m_jrdd_deserializer\u001b[0m\u001b[0;34m)\u001b[0m\u001b[0;34m)\u001b[0m\u001b[0;34m\u001b[0m\u001b[0m\n\u001b[1;32m    836\u001b[0m \u001b[0;34m\u001b[0m\u001b[0m\n",
      "\u001b[0;32m/opt/anaconda/lib/python3.6/site-packages/py4j-0.10.7-py3.6.egg/py4j/java_gateway.py\u001b[0m in \u001b[0;36m__call__\u001b[0;34m(self, *args)\u001b[0m\n\u001b[1;32m   1255\u001b[0m         \u001b[0manswer\u001b[0m \u001b[0;34m=\u001b[0m \u001b[0mself\u001b[0m\u001b[0;34m.\u001b[0m\u001b[0mgateway_client\u001b[0m\u001b[0;34m.\u001b[0m\u001b[0msend_command\u001b[0m\u001b[0;34m(\u001b[0m\u001b[0mcommand\u001b[0m\u001b[0;34m)\u001b[0m\u001b[0;34m\u001b[0m\u001b[0m\n\u001b[1;32m   1256\u001b[0m         return_value = get_return_value(\n\u001b[0;32m-> 1257\u001b[0;31m             answer, self.gateway_client, self.target_id, self.name)\n\u001b[0m\u001b[1;32m   1258\u001b[0m \u001b[0;34m\u001b[0m\u001b[0m\n\u001b[1;32m   1259\u001b[0m         \u001b[0;32mfor\u001b[0m \u001b[0mtemp_arg\u001b[0m \u001b[0;32min\u001b[0m \u001b[0mtemp_args\u001b[0m\u001b[0;34m:\u001b[0m\u001b[0;34m\u001b[0m\u001b[0m\n",
      "\u001b[0;32m/opt/anaconda/lib/python3.6/site-packages/pyspark-2.3.1-py3.6.egg/pyspark/sql/utils.py\u001b[0m in \u001b[0;36mdeco\u001b[0;34m(*a, **kw)\u001b[0m\n\u001b[1;32m     61\u001b[0m     \u001b[0;32mdef\u001b[0m \u001b[0mdeco\u001b[0m\u001b[0;34m(\u001b[0m\u001b[0;34m*\u001b[0m\u001b[0ma\u001b[0m\u001b[0;34m,\u001b[0m \u001b[0;34m**\u001b[0m\u001b[0mkw\u001b[0m\u001b[0;34m)\u001b[0m\u001b[0;34m:\u001b[0m\u001b[0;34m\u001b[0m\u001b[0m\n\u001b[1;32m     62\u001b[0m         \u001b[0;32mtry\u001b[0m\u001b[0;34m:\u001b[0m\u001b[0;34m\u001b[0m\u001b[0m\n\u001b[0;32m---> 63\u001b[0;31m             \u001b[0;32mreturn\u001b[0m \u001b[0mf\u001b[0m\u001b[0;34m(\u001b[0m\u001b[0;34m*\u001b[0m\u001b[0ma\u001b[0m\u001b[0;34m,\u001b[0m \u001b[0;34m**\u001b[0m\u001b[0mkw\u001b[0m\u001b[0;34m)\u001b[0m\u001b[0;34m\u001b[0m\u001b[0m\n\u001b[0m\u001b[1;32m     64\u001b[0m         \u001b[0;32mexcept\u001b[0m \u001b[0mpy4j\u001b[0m\u001b[0;34m.\u001b[0m\u001b[0mprotocol\u001b[0m\u001b[0;34m.\u001b[0m\u001b[0mPy4JJavaError\u001b[0m \u001b[0;32mas\u001b[0m \u001b[0me\u001b[0m\u001b[0;34m:\u001b[0m\u001b[0;34m\u001b[0m\u001b[0m\n\u001b[1;32m     65\u001b[0m             \u001b[0ms\u001b[0m \u001b[0;34m=\u001b[0m \u001b[0me\u001b[0m\u001b[0;34m.\u001b[0m\u001b[0mjava_exception\u001b[0m\u001b[0;34m.\u001b[0m\u001b[0mtoString\u001b[0m\u001b[0;34m(\u001b[0m\u001b[0;34m)\u001b[0m\u001b[0;34m\u001b[0m\u001b[0m\n",
      "\u001b[0;32m/opt/anaconda/lib/python3.6/site-packages/py4j-0.10.7-py3.6.egg/py4j/protocol.py\u001b[0m in \u001b[0;36mget_return_value\u001b[0;34m(answer, gateway_client, target_id, name)\u001b[0m\n\u001b[1;32m    326\u001b[0m                 raise Py4JJavaError(\n\u001b[1;32m    327\u001b[0m                     \u001b[0;34m\"An error occurred while calling {0}{1}{2}.\\n\"\u001b[0m\u001b[0;34m.\u001b[0m\u001b[0;34m\u001b[0m\u001b[0m\n\u001b[0;32m--> 328\u001b[0;31m                     format(target_id, \".\", name), value)\n\u001b[0m\u001b[1;32m    329\u001b[0m             \u001b[0;32melse\u001b[0m\u001b[0;34m:\u001b[0m\u001b[0;34m\u001b[0m\u001b[0m\n\u001b[1;32m    330\u001b[0m                 raise Py4JError(\n",
      "\u001b[0;31mPy4JJavaError\u001b[0m: An error occurred while calling z:org.apache.spark.api.python.PythonRDD.collectAndServe.\n: org.apache.spark.SparkException: Job aborted due to stage failure: Task 0 in stage 774.0 failed 1 times, most recent failure: Lost task 0.0 in stage 774.0 (TID 6774, localhost, executor driver): org.apache.spark.api.python.PythonException: Traceback (most recent call last):\n  File \"/opt/spark/python/lib/pyspark.zip/pyspark/worker.py\", line 230, in main\n    process()\n  File \"/opt/spark/python/lib/pyspark.zip/pyspark/worker.py\", line 225, in process\n    serializer.dump_stream(func(split_index, iterator), outfile)\n  File \"/opt/anaconda/lib/python3.6/site-packages/pyspark-2.3.1-py3.6.egg/pyspark/rdd.py\", line 2457, in pipeline_func\n    return func(split, prev_func(split, iterator))\n  File \"/opt/anaconda/lib/python3.6/site-packages/pyspark-2.3.1-py3.6.egg/pyspark/rdd.py\", line 2457, in pipeline_func\n    return func(split, prev_func(split, iterator))\n  File \"/opt/anaconda/lib/python3.6/site-packages/pyspark-2.3.1-py3.6.egg/pyspark/rdd.py\", line 370, in func\n    return f(iterator)\n  File \"/opt/anaconda/lib/python3.6/site-packages/pyspark-2.3.1-py3.6.egg/pyspark/rdd.py\", line 1876, in combineLocally\n    merger.mergeValues(iterator)\n  File \"/opt/spark/python/lib/pyspark.zip/pyspark/shuffle.py\", line 239, in mergeValues\n    d[k] = comb(d[k], v) if k in d else creator(v)\n  File \"/opt/anaconda/lib/python3.6/site-packages/pyspark-2.3.1-py3.6.egg/pyspark/util.py\", line 55, in wrapper\n    return f(*args, **kwargs)\nTypeError: 'int' object is not iterable\n\n\tat org.apache.spark.api.python.BasePythonRunner$ReaderIterator.handlePythonException(PythonRunner.scala:298)\n\tat org.apache.spark.api.python.PythonRunner$$anon$1.read(PythonRunner.scala:438)\n\tat org.apache.spark.api.python.PythonRunner$$anon$1.read(PythonRunner.scala:421)\n\tat org.apache.spark.api.python.BasePythonRunner$ReaderIterator.hasNext(PythonRunner.scala:252)\n\tat org.apache.spark.InterruptibleIterator.hasNext(InterruptibleIterator.scala:37)\n\tat scala.collection.Iterator$GroupedIterator.fill(Iterator.scala:1126)\n\tat scala.collection.Iterator$GroupedIterator.hasNext(Iterator.scala:1132)\n\tat scala.collection.Iterator$$anon$11.hasNext(Iterator.scala:408)\n\tat org.apache.spark.shuffle.sort.BypassMergeSortShuffleWriter.write(BypassMergeSortShuffleWriter.java:125)\n\tat org.apache.spark.scheduler.ShuffleMapTask.runTask(ShuffleMapTask.scala:96)\n\tat org.apache.spark.scheduler.ShuffleMapTask.runTask(ShuffleMapTask.scala:53)\n\tat org.apache.spark.scheduler.Task.run(Task.scala:109)\n\tat org.apache.spark.executor.Executor$TaskRunner.run(Executor.scala:345)\n\tat java.util.concurrent.ThreadPoolExecutor.runWorker(ThreadPoolExecutor.java:1142)\n\tat java.util.concurrent.ThreadPoolExecutor$Worker.run(ThreadPoolExecutor.java:617)\n\tat java.lang.Thread.run(Thread.java:748)\n\nDriver stacktrace:\n\tat org.apache.spark.scheduler.DAGScheduler.org$apache$spark$scheduler$DAGScheduler$$failJobAndIndependentStages(DAGScheduler.scala:1602)\n\tat org.apache.spark.scheduler.DAGScheduler$$anonfun$abortStage$1.apply(DAGScheduler.scala:1590)\n\tat org.apache.spark.scheduler.DAGScheduler$$anonfun$abortStage$1.apply(DAGScheduler.scala:1589)\n\tat scala.collection.mutable.ResizableArray$class.foreach(ResizableArray.scala:59)\n\tat scala.collection.mutable.ArrayBuffer.foreach(ArrayBuffer.scala:48)\n\tat org.apache.spark.scheduler.DAGScheduler.abortStage(DAGScheduler.scala:1589)\n\tat org.apache.spark.scheduler.DAGScheduler$$anonfun$handleTaskSetFailed$1.apply(DAGScheduler.scala:831)\n\tat org.apache.spark.scheduler.DAGScheduler$$anonfun$handleTaskSetFailed$1.apply(DAGScheduler.scala:831)\n\tat scala.Option.foreach(Option.scala:257)\n\tat org.apache.spark.scheduler.DAGScheduler.handleTaskSetFailed(DAGScheduler.scala:831)\n\tat org.apache.spark.scheduler.DAGSchedulerEventProcessLoop.doOnReceive(DAGScheduler.scala:1823)\n\tat org.apache.spark.scheduler.DAGSchedulerEventProcessLoop.onReceive(DAGScheduler.scala:1772)\n\tat org.apache.spark.scheduler.DAGSchedulerEventProcessLoop.onReceive(DAGScheduler.scala:1761)\n\tat org.apache.spark.util.EventLoop$$anon$1.run(EventLoop.scala:48)\n\tat org.apache.spark.scheduler.DAGScheduler.runJob(DAGScheduler.scala:642)\n\tat org.apache.spark.SparkContext.runJob(SparkContext.scala:2034)\n\tat org.apache.spark.SparkContext.runJob(SparkContext.scala:2055)\n\tat org.apache.spark.SparkContext.runJob(SparkContext.scala:2074)\n\tat org.apache.spark.SparkContext.runJob(SparkContext.scala:2099)\n\tat org.apache.spark.rdd.RDD$$anonfun$collect$1.apply(RDD.scala:939)\n\tat org.apache.spark.rdd.RDDOperationScope$.withScope(RDDOperationScope.scala:151)\n\tat org.apache.spark.rdd.RDDOperationScope$.withScope(RDDOperationScope.scala:112)\n\tat org.apache.spark.rdd.RDD.withScope(RDD.scala:363)\n\tat org.apache.spark.rdd.RDD.collect(RDD.scala:938)\n\tat org.apache.spark.api.python.PythonRDD$.collectAndServe(PythonRDD.scala:162)\n\tat org.apache.spark.api.python.PythonRDD.collectAndServe(PythonRDD.scala)\n\tat sun.reflect.GeneratedMethodAccessor394.invoke(Unknown Source)\n\tat sun.reflect.DelegatingMethodAccessorImpl.invoke(DelegatingMethodAccessorImpl.java:43)\n\tat java.lang.reflect.Method.invoke(Method.java:498)\n\tat py4j.reflection.MethodInvoker.invoke(MethodInvoker.java:244)\n\tat py4j.reflection.ReflectionEngine.invoke(ReflectionEngine.java:357)\n\tat py4j.Gateway.invoke(Gateway.java:282)\n\tat py4j.commands.AbstractCommand.invokeMethod(AbstractCommand.java:132)\n\tat py4j.commands.CallCommand.execute(CallCommand.java:79)\n\tat py4j.GatewayConnection.run(GatewayConnection.java:238)\n\tat java.lang.Thread.run(Thread.java:748)\nCaused by: org.apache.spark.api.python.PythonException: Traceback (most recent call last):\n  File \"/opt/spark/python/lib/pyspark.zip/pyspark/worker.py\", line 230, in main\n    process()\n  File \"/opt/spark/python/lib/pyspark.zip/pyspark/worker.py\", line 225, in process\n    serializer.dump_stream(func(split_index, iterator), outfile)\n  File \"/opt/anaconda/lib/python3.6/site-packages/pyspark-2.3.1-py3.6.egg/pyspark/rdd.py\", line 2457, in pipeline_func\n    return func(split, prev_func(split, iterator))\n  File \"/opt/anaconda/lib/python3.6/site-packages/pyspark-2.3.1-py3.6.egg/pyspark/rdd.py\", line 2457, in pipeline_func\n    return func(split, prev_func(split, iterator))\n  File \"/opt/anaconda/lib/python3.6/site-packages/pyspark-2.3.1-py3.6.egg/pyspark/rdd.py\", line 370, in func\n    return f(iterator)\n  File \"/opt/anaconda/lib/python3.6/site-packages/pyspark-2.3.1-py3.6.egg/pyspark/rdd.py\", line 1876, in combineLocally\n    merger.mergeValues(iterator)\n  File \"/opt/spark/python/lib/pyspark.zip/pyspark/shuffle.py\", line 239, in mergeValues\n    d[k] = comb(d[k], v) if k in d else creator(v)\n  File \"/opt/anaconda/lib/python3.6/site-packages/pyspark-2.3.1-py3.6.egg/pyspark/util.py\", line 55, in wrapper\n    return f(*args, **kwargs)\nTypeError: 'int' object is not iterable\n\n\tat org.apache.spark.api.python.BasePythonRunner$ReaderIterator.handlePythonException(PythonRunner.scala:298)\n\tat org.apache.spark.api.python.PythonRunner$$anon$1.read(PythonRunner.scala:438)\n\tat org.apache.spark.api.python.PythonRunner$$anon$1.read(PythonRunner.scala:421)\n\tat org.apache.spark.api.python.BasePythonRunner$ReaderIterator.hasNext(PythonRunner.scala:252)\n\tat org.apache.spark.InterruptibleIterator.hasNext(InterruptibleIterator.scala:37)\n\tat scala.collection.Iterator$GroupedIterator.fill(Iterator.scala:1126)\n\tat scala.collection.Iterator$GroupedIterator.hasNext(Iterator.scala:1132)\n\tat scala.collection.Iterator$$anon$11.hasNext(Iterator.scala:408)\n\tat org.apache.spark.shuffle.sort.BypassMergeSortShuffleWriter.write(BypassMergeSortShuffleWriter.java:125)\n\tat org.apache.spark.scheduler.ShuffleMapTask.runTask(ShuffleMapTask.scala:96)\n\tat org.apache.spark.scheduler.ShuffleMapTask.runTask(ShuffleMapTask.scala:53)\n\tat org.apache.spark.scheduler.Task.run(Task.scala:109)\n\tat org.apache.spark.executor.Executor$TaskRunner.run(Executor.scala:345)\n\tat java.util.concurrent.ThreadPoolExecutor.runWorker(ThreadPoolExecutor.java:1142)\n\tat java.util.concurrent.ThreadPoolExecutor$Worker.run(ThreadPoolExecutor.java:617)\n\t... 1 more\n"
     ]
    }
   ],
   "source": [
    "countPandasDF = pd.DataFrame(columns = ['NA', 'A', 'B', 'C', 'D', 'E', 'F', 'G'], index = NUM_FIELDS)\n",
    "countPandasDF\n",
    "\n",
    "for i, field in enumerate(NUM_FIELDS):\n",
    "    countsRDD = bucketRDD.map(lambda x: (x[i],1)).reduceByKey(sum)\n",
    "    countPandasDF.iloc[[field]] = np.array(countsRDD.collect())"
   ]
  },
  {
   "cell_type": "code",
   "execution_count": null,
   "metadata": {},
   "outputs": [],
   "source": [
    "countPandasDF\n",
    "# Take a look at histograms for each feature \n",
    "sample_numeric.hist(figsize=(20,15), bins=15, label=['NA', '<0', '0-100', '100-500', '500-1000', '1000-5000', '5000-10000', '>10000'])\n",
    "plt.show()"
   ]
  },
  {
   "cell_type": "markdown",
   "metadata": {},
   "source": [
    "### EDA\n",
    "\n",
    "#### Dataset Introduction \n",
    "\n",
    "The training dataset consists of a portion of Criteo's traffic over a period of 7 days. Each row corresponds to a display ad served by Criteo and the first column indicates whether this ad has been clicked or not. The positive (clicked) and negatives (non-clicked) examples have both been subsampled (but at different rates) in order to reduce the dataset size.\n",
    "\n",
    "There are 13 features taking integer values (mostly count features) and 26 categorical features. The values of the categorical features have been hashed onto 32 bits for anonymization purposes. The semantic of these features is undisclosed. Some features may have missing values.\n",
    "\n",
    "The rows are chronologically ordered. The test set is computed in the same way as the training set but it \n",
    "corresponds to events on the day following the training period and does not have the label column.\n",
    "\n",
    "#### Train File:\n",
    "\n",
    "* Number of rows: 45840617 (~ 45 million)\n",
    "2. Number of columns: 40 Columns\n",
    "    -  13 Numerical Features I1-I13\n",
    "    -  26 Categorical Features C1-C26\n",
    "    -  1 Label Column - 0 or 1  \n",
    "3. **Numerical Columns Analysis**:\n",
    "4. **Categorical Columns Analysis**:\n",
    "5. **Output Column Analysis**:\n",
    "    -  Binary variable with values as 0 or 1 \n",
    "    -  0 - user clicked on the ad, 1 - user did not click on the ad\n",
    "\n",
    "#### Test File:\n",
    "\n",
    "1. Number of rows: 6042135 (~ 6 million)\n",
    "2. Number of columns: \n",
    "3. Numerical Columns Analysis:\n",
    "4. Categorical Columns Analysis:\n",
    "5. Output Column Analysis:\n",
    "    "
   ]
  },
  {
   "cell_type": "markdown",
   "metadata": {},
   "source": [
    "## 4. Algorithm Implementation"
   ]
  },
  {
   "cell_type": "code",
   "execution_count": null,
   "metadata": {},
   "outputs": [],
   "source": []
  },
  {
   "cell_type": "markdown",
   "metadata": {},
   "source": [
    "## 5. Application of Course Concepts"
   ]
  },
  {
   "cell_type": "code",
   "execution_count": null,
   "metadata": {},
   "outputs": [],
   "source": []
  }
 ],
 "metadata": {
  "kernelspec": {
   "display_name": "Python 3",
   "language": "python",
   "name": "python3"
  },
  "language_info": {
   "codemirror_mode": {
    "name": "ipython",
    "version": 3
   },
   "file_extension": ".py",
   "mimetype": "text/x-python",
   "name": "python",
   "nbconvert_exporter": "python",
   "pygments_lexer": "ipython3",
   "version": "3.6.6"
  }
 },
 "nbformat": 4,
 "nbformat_minor": 2
}
