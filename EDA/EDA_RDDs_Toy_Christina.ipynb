{
 "cells": [
  {
   "cell_type": "markdown",
   "metadata": {},
   "source": [
    "# W261 Final Project\n",
    "\n",
    "#### *Anusha Munjuluri, Arvindh Ganesan, Kim Vignola, Christina Papadimitriou*"
   ]
  },
  {
   "cell_type": "markdown",
   "metadata": {},
   "source": [
    "### Notebook Set-up"
   ]
  },
  {
   "cell_type": "code",
   "execution_count": 1,
   "metadata": {},
   "outputs": [],
   "source": [
    "# imports\n",
    "import re\n",
    "import time\n",
    "import numpy as np\n",
    "import pandas as pd\n",
    "import seaborn as sns\n",
    "import matplotlib.pyplot as plt\n",
    "\n",
    "from pyspark.sql import types\n",
    "import pyspark.sql\n",
    "import pyspark.sql.functions"
   ]
  },
  {
   "cell_type": "code",
   "execution_count": 2,
   "metadata": {},
   "outputs": [],
   "source": [
    "# store path to notebook\n",
    "PWD = !pwd\n",
    "PWD = PWD[0]"
   ]
  },
  {
   "cell_type": "code",
   "execution_count": 3,
   "metadata": {},
   "outputs": [],
   "source": [
    "# start Spark Session\n",
    "from pyspark.sql import SparkSession\n",
    "app_name = \"final_project\"\n",
    "master = \"local[*]\"\n",
    "spark = SparkSession\\\n",
    "        .builder\\\n",
    "        .appName(app_name)\\\n",
    "        .master(master)\\\n",
    "        .getOrCreate()\n",
    "sc = spark.sparkContext"
   ]
  },
  {
   "cell_type": "markdown",
   "metadata": {},
   "source": [
    "## 1. Question Formulation"
   ]
  },
  {
   "cell_type": "code",
   "execution_count": null,
   "metadata": {},
   "outputs": [],
   "source": []
  },
  {
   "cell_type": "markdown",
   "metadata": {},
   "source": [
    "## 2. Algorithm Explanation"
   ]
  },
  {
   "cell_type": "code",
   "execution_count": null,
   "metadata": {},
   "outputs": [],
   "source": []
  },
  {
   "cell_type": "markdown",
   "metadata": {},
   "source": [
    "## 3. EDA & Discussion of Challenges"
   ]
  },
  {
   "cell_type": "markdown",
   "metadata": {},
   "source": [
    "### 3.1 Data Loading"
   ]
  },
  {
   "cell_type": "code",
   "execution_count": 4,
   "metadata": {},
   "outputs": [
    {
     "name": "stdout",
     "output_type": "stream",
     "text": [
      "0\t1\t1\t5\t0\t1382\t4\t15\t2\t181\t1\t2\t\t2\t68fd1e64\t80e26c9b\tfb936136\t7b4723c4\t25c83c98\t7e0ccccf\tde7995b8\t1f89b562\ta73ee510\ta8cd5504\tb2cb9c98\t37c9c164\t2824a5f6\t1adce6ef\t8ba8b39a\t891b62e7\te5ba7672\tf54016b9\t21ddcdc9\tb1252a9d\t07b5194c\t\t3a171ecb\tc5c50484\te8b83407\t9727dd16\n"
     ]
    }
   ],
   "source": [
    "# take a look at the data\n",
    "!head -n 1 data/train.txt"
   ]
  },
  {
   "cell_type": "code",
   "execution_count": 4,
   "metadata": {},
   "outputs": [],
   "source": [
    "# load the data\n",
    "fullTrainRDD = sc.textFile('data/train.txt')\n",
    "testRDD = sc.textFile('data/test.txt')\n",
    "\n",
    "FIELDS = ['I1','I2','I3','I4','I5','I6','I7','I8','I9','I10','I11','I12','I13',\n",
    "          'C1','C2','C3','C4','C5','C6','C7','C8','C9','C10','C11','C12','C13','C14',\n",
    "          'C15','C16','C17','C18','C19','C20','C21','C22','C23','C24','C25','C26','Label']"
   ]
  },
  {
   "cell_type": "code",
   "execution_count": 7,
   "metadata": {},
   "outputs": [
    {
     "name": "stdout",
     "output_type": "stream",
     "text": [
      "Number of records in train data: 45840617 ...\n",
      "Number of records in test data: 6042135 ...\n"
     ]
    }
   ],
   "source": [
    "# number of rows in train/test data\n",
    "print(f\"Number of records in train data: {fullTrainRDD.count()} ...\")\n",
    "print(f\"Number of records in test data: {testRDD.count()} ...\")"
   ]
  },
  {
   "cell_type": "markdown",
   "metadata": {},
   "source": [
    "### 3.2 Creating Train and Test Split"
   ]
  },
  {
   "cell_type": "code",
   "execution_count": 5,
   "metadata": {},
   "outputs": [
    {
     "name": "stdout",
     "output_type": "stream",
     "text": [
      "... held out 9167871 records for evaluation and assigned 36672746 for training.\n"
     ]
    }
   ],
   "source": [
    "# Generate 80/20 (pseudo)random train/test split \n",
    "trainRDD, heldOutRDD = fullTrainRDD.randomSplit([0.8,0.2], seed = 1)\n",
    "print(f\"... held out {heldOutRDD.count()} records for evaluation and assigned {trainRDD.count()} for training.\")"
   ]
  },
  {
   "cell_type": "markdown",
   "metadata": {},
   "source": [
    "### 3.3 Pre-Processing"
   ]
  },
  {
   "cell_type": "code",
   "execution_count": 37,
   "metadata": {},
   "outputs": [],
   "source": [
    "# helper functions\n",
    "def parse(line):\n",
    "    \"\"\"\n",
    "    Map line --> tuple of (features, label)\n",
    "    \"\"\"\n",
    "    fields = line.split('\\t')\n",
    "    features,label = fields[1:], fields[0]\n",
    "    return(features, label)\n",
    "\n",
    "def edit_data_types(line):\n",
    "    \"\"\"\n",
    "    Map tuple of (features, label) --> tuple of (formated features, label)\n",
    "    \n",
    "    * '' is replaced with NaN\n",
    "    * numerical fields are converted to integers\n",
    "    * make label column numeric\n",
    "    \"\"\"\n",
    "    features, label = line[0], line[1]\n",
    "    formated_features = []\n",
    "    for i, value in enumerate(features):\n",
    "        if value == '':\n",
    "            formated_features.append('null') # replaced the np.nan with 'null' because spark doesnt recognize np.nan when filtering\n",
    "        else:\n",
    "            if i < 13:\n",
    "                formated_features.append(float(value)) \n",
    "            else:\n",
    "                formated_features.append(value)\n",
    "    return (formated_features, int(label))"
   ]
  },
  {
   "cell_type": "code",
   "execution_count": 38,
   "metadata": {},
   "outputs": [],
   "source": [
    "# Parsing, making '' as np.nan and converting numerical features and output label to int\n",
    "trainRDDCached = trainRDD.map(parse).map(edit_data_types).cache()"
   ]
  },
  {
   "cell_type": "code",
   "execution_count": 39,
   "metadata": {},
   "outputs": [
    {
     "name": "stdout",
     "output_type": "stream",
     "text": [
      "[([1.0, 1.0, 5.0, 0.0, 1382.0, 4.0, 15.0, 2.0, 181.0, 1.0, 2.0, 'null', 2.0, '68fd1e64', '80e26c9b', 'fb936136', '7b4723c4', '25c83c98', '7e0ccccf', 'de7995b8', '1f89b562', 'a73ee510', 'a8cd5504', 'b2cb9c98', '37c9c164', '2824a5f6', '1adce6ef', '8ba8b39a', '891b62e7', 'e5ba7672', 'f54016b9', '21ddcdc9', 'b1252a9d', '07b5194c', 'null', '3a171ecb', 'c5c50484', 'e8b83407', '9727dd16'], 0)]\n"
     ]
    }
   ],
   "source": [
    "print(trainRDDCached.take(1))"
   ]
  },
  {
   "cell_type": "markdown",
   "metadata": {},
   "source": [
    "### 3.4 Creating a toy RDD"
   ]
  },
  {
   "cell_type": "code",
   "execution_count": 65,
   "metadata": {},
   "outputs": [],
   "source": [
    "# creating toy sample (run this once from cmd line and reuse the same sample)\n",
    "!gshuf -n 1000 data/train.txt >> data/toy1000.txt"
   ]
  },
  {
   "cell_type": "code",
   "execution_count": 40,
   "metadata": {},
   "outputs": [
    {
     "name": "stdout",
     "output_type": "stream",
     "text": [
      "Number of records in toy data: 1000 ...\n"
     ]
    }
   ],
   "source": [
    "toyRDD = sc.textFile('data/toy1000.txt')\n",
    "toyRDDCached = toyRDD.map(parse).map(edit_data_types).cache()\n",
    "\n",
    "print(f\"Number of records in toy data: {toyRDDCached.count()} ...\")"
   ]
  },
  {
   "cell_type": "code",
   "execution_count": 41,
   "metadata": {},
   "outputs": [
    {
     "name": "stdout",
     "output_type": "stream",
     "text": [
      "[([0.0, 478.0, 13.0, 'null', 3396.0, 194.0, 11.0, 13.0, 312.0, 0.0, 7.0, 'null', 'null', '05db9164', '207b2d81', '1757640a', '06148e59', '25c83c98', 'fbad5c96', 'f36791d8', '0b153874', 'a73ee510', 'c7009b63', '2714650d', '1a69f1c0', '9a88e2e2', '07d13a8f', '0c67c4ca', '8075af0c', 'e5ba7672', '395856b0', '21ddcdc9', 'b1252a9d', '8e4884c0', 'null', '423fab69', 'b936bfbe', '001f3601', 'f2fc1d6e'], 1)]\n"
     ]
    }
   ],
   "source": [
    "print(toyRDDCached.take(1))"
   ]
  },
  {
   "cell_type": "markdown",
   "metadata": {},
   "source": [
    "#### -------------------------------------------------------------------------------------------------------------------\n",
    "#### !!!! For the below analysis `toyRDD` can be replaced by `trainRDDCached` to run the processing on the entire dataset\n",
    "#### -------------------------------------------------------------------------------------------------------------------"
   ]
  },
  {
   "cell_type": "markdown",
   "metadata": {},
   "source": [
    "### 3.5 Labels"
   ]
  },
  {
   "cell_type": "code",
   "execution_count": 42,
   "metadata": {},
   "outputs": [
    {
     "name": "stdout",
     "output_type": "stream",
     "text": [
      "72.3 % of the records have label=0 and 27.7 % have label=1...\n"
     ]
    }
   ],
   "source": [
    "# TOY DATA\n",
    "# counting records for each class \n",
    "count_label_0 = toyRDDCached.filter(lambda x: x[1] == 0).count()\n",
    "count_label_1 = toyRDDCached.filter(lambda x: x[1] == 1).count()\n",
    "total = count_label_0 + count_label_1\n",
    "\n",
    "print(f\"{np.round(count_label_0/total*100, 2)} % of the records have label=0 and {np.round(count_label_1/total*100, 2)} % have label=1...\")"
   ]
  },
  {
   "cell_type": "code",
   "execution_count": 13,
   "metadata": {},
   "outputs": [
    {
     "name": "stdout",
     "output_type": "stream",
     "text": [
      "74.38 % of the records have label=0 and 25.62 % have label=1...\n"
     ]
    }
   ],
   "source": [
    "# FULL DATA\n",
    "# counting records for each class \n",
    "count_label_0 = trainRDDCached.filter(lambda x: x[1] == 0).count()\n",
    "count_label_1 = trainRDDCached.filter(lambda x: x[1] == 1).count()\n",
    "total = count_label_0 + count_label_1\n",
    "\n",
    "print(f\"{np.round(count_label_0/total*100, 2)} % of the records have label=0 and {np.round(count_label_1/total*100, 2)} % have label=1...\")"
   ]
  },
  {
   "cell_type": "markdown",
   "metadata": {},
   "source": [
    "_**Takeaway: labels are imbalanced, with 75% of records having label=0 (i.e. unclicked ads). However, we will not attempt to balance the labels at this stage. Being aware of this imbalance, we will carefully examine the prediction results to detect any bias (i.e. predicting always label=0)**_"
   ]
  },
  {
   "cell_type": "markdown",
   "metadata": {},
   "source": [
    "### 3.6 Counting nulls in each column"
   ]
  },
  {
   "cell_type": "code",
   "execution_count": 55,
   "metadata": {},
   "outputs": [],
   "source": [
    "def get_pct_nulls_in_column(dataRDD, var_position):\n",
    "    \"\"\"\n",
    "    Counts the % nulls in a column \n",
    "    \"\"\"\n",
    "\n",
    "    null_count = dataRDD.map(lambda x: x[0][var_position]) \\\n",
    "                             .filter(lambda x: x == 'null').count()\n",
    "    total_count = dataRDD.map(lambda x: x[0][var_position]).count()\n",
    "\n",
    "    return null_count/total_count*100"
   ]
  },
  {
   "cell_type": "code",
   "execution_count": 56,
   "metadata": {},
   "outputs": [
    {
     "name": "stdout",
     "output_type": "stream",
     "text": [
      "FEATURE I1: 43.2% is null\n",
      "FEATURE I2: 0.0% is null\n",
      "FEATURE I3: 21.3% is null\n",
      "FEATURE I4: 22.1% is null\n",
      "FEATURE I5: 2.4% is null\n",
      "FEATURE I6: 23.0% is null\n",
      "FEATURE I7: 3.7% is null\n",
      "FEATURE I8: 0.0% is null\n",
      "FEATURE I9: 3.7% is null\n",
      "FEATURE I10: 43.2% is null\n",
      "FEATURE I11: 3.7% is null\n",
      "FEATURE I12: 77.4% is null\n",
      "FEATURE I13: 22.1% is null\n",
      "FEATURE C1: 0.0% is null\n",
      "FEATURE C2: 0.0% is null\n",
      "FEATURE C3: 3.4% is null\n",
      "FEATURE C4: 3.4% is null\n",
      "FEATURE C5: 0.0% is null\n",
      "FEATURE C6: 13.4% is null\n",
      "FEATURE C7: 0.0% is null\n",
      "FEATURE C8: 0.0% is null\n",
      "FEATURE C9: 0.0% is null\n",
      "FEATURE C10: 0.0% is null\n",
      "FEATURE C11: 0.0% is null\n",
      "FEATURE C12: 3.4% is null\n",
      "FEATURE C13: 0.0% is null\n",
      "FEATURE C14: 0.0% is null\n",
      "FEATURE C15: 0.0% is null\n",
      "FEATURE C16: 3.4% is null\n",
      "FEATURE C17: 0.0% is null\n",
      "FEATURE C18: 0.0% is null\n",
      "FEATURE C19: 42.2% is null\n",
      "FEATURE C20: 42.2% is null\n",
      "FEATURE C21: 3.4% is null\n",
      "FEATURE C22: 74.5% is null\n",
      "FEATURE C23: 0.0% is null\n",
      "FEATURE C24: 3.4% is null\n",
      "FEATURE C25: 42.2% is null\n",
      "FEATURE C26: 42.2% is null\n"
     ]
    }
   ],
   "source": [
    "# TOY DATA\n",
    "for var_position, var in enumerate(FIELDS):\n",
    "\n",
    "    if var_position < 39:\n",
    "        null_pct = get_pct_nulls_in_column(toyRDDCached, var_position)\n",
    "        print(\"FEATURE {}: {}% is null\".format(var, np.round(null_pct,2)))"
   ]
  },
  {
   "cell_type": "code",
   "execution_count": null,
   "metadata": {},
   "outputs": [],
   "source": [
    "# FULL DATA\n",
    "for var_position, var in enumerate(FIELDS):\n",
    "\n",
    "    if var_position < 39:\n",
    "        null_pct = get_pct_nulls_in_column(trainRDDCached, var_position)\n",
    "        print(\"FEATURE {}: {}% is null\".format(var, np.round(null_pct,2)))\n"
   ]
  },
  {
   "cell_type": "markdown",
   "metadata": {},
   "source": [
    "_**Takeaway: some columns have a high % of null values. We decide to exclude columns that have more than 50% nulls because those columns will likely not contribute to the prediction results.**_"
   ]
  },
  {
   "cell_type": "code",
   "execution_count": null,
   "metadata": {},
   "outputs": [],
   "source": [
    "# write code to exclude columns (if we decide to do it)"
   ]
  },
  {
   "cell_type": "code",
   "execution_count": null,
   "metadata": {},
   "outputs": [],
   "source": []
  },
  {
   "cell_type": "markdown",
   "metadata": {},
   "source": [
    "### 3.6 Numeric Features"
   ]
  },
  {
   "cell_type": "markdown",
   "metadata": {},
   "source": [
    "#### 3.6.1 Get statistics and impute nulls with means/medians"
   ]
  },
  {
   "cell_type": "code",
   "execution_count": 120,
   "metadata": {},
   "outputs": [],
   "source": [
    "def get_stats(dataRDD, var_position):\n",
    "    \"\"\"\n",
    "    Get statistics for numeric variables \n",
    "    stats: mean, median, variance, min, max \n",
    "    \"\"\"\n",
    "\n",
    "    mean = dataRDD.map(lambda x: x[0][var_position]).filter(lambda x: x != 'null').mean() \n",
    "    variance = dataRDD.map(lambda x: x[0][var_position]).filter(lambda x: x != 'null').variance() \n",
    "    minimum = dataRDD.map(lambda x: x[0][var_position]).filter(lambda x: x != 'null').min() \n",
    "    maximum = dataRDD.map(lambda x: x[0][var_position]).filter(lambda x: x != 'null').max() \n",
    "\n",
    "    return mean, variance, minimum, maximum\n",
    "\n",
    "\n",
    "def impute_nulls(line, mean_dict):\n",
    "    \"\"\"\n",
    "    Impute the null values of the numerical columns with the mean value of the column\n",
    "    \"\"\"\n",
    "    features, label = line[0], line[1]\n",
    "    imputed_features = []\n",
    "    for i, value in enumerate(features):\n",
    "        if i < 13: \n",
    "            if value == 'null':\n",
    "                imputed_features.append(mean_dict[i])\n",
    "            else:\n",
    "                imputed_features.append(value)\n",
    "        else: \n",
    "            imputed_features.append(value)\n",
    "    return (imputed_features, int(label))"
   ]
  },
  {
   "cell_type": "code",
   "execution_count": 144,
   "metadata": {},
   "outputs": [
    {
     "name": "stdout",
     "output_type": "stream",
     "text": [
      "FEATURE I1: \t mean=3.17, \t variance=33.98, \t min=0.0, \t max=55.0\n",
      "FEATURE I2: \t mean=114.72, \t variance=179230.84, \t min=-2.0, \t max=5123.0\n",
      "FEATURE I3: \t mean=18.78, \t variance=2026.69, \t min=0.0, \t max=648.0\n",
      "FEATURE I4: \t mean=7.43, \t variance=86.02, \t min=0.0, \t max=77.0\n",
      "FEATURE I5: \t mean=18392.77, \t variance=4908735552.87, \t min=0.0, \t max=1002457.0\n",
      "FEATURE I6: \t mean=95.23, \t variance=65007.31, \t min=0.0, \t max=4304.0\n",
      "FEATURE I7: \t mean=17.94, \t variance=8794.35, \t min=0.0, \t max=2614.0\n",
      "FEATURE I8: \t mean=12.96, \t variance=183.6, \t min=0.0, \t max=49.0\n",
      "FEATURE I9: \t mean=102.42, \t variance=38152.34, \t min=0.0, \t max=2711.0\n",
      "FEATURE I10: \t mean=0.64, \t variance=0.5, \t min=0.0, \t max=4.0\n",
      "FEATURE I11: \t mean=2.78, \t variance=23.83, \t min=0.0, \t max=60.0\n",
      "FEATURE I12: \t mean=1.19, \t variance=40.19, \t min=0.0, \t max=84.0\n",
      "FEATURE I13: \t mean=7.99, \t variance=116.35, \t min=0.0, \t max=97.0\n"
     ]
    }
   ],
   "source": [
    "# TOY DATA\n",
    "\n",
    "# save the means in a dictionary\n",
    "mean_dict_toy = {}\n",
    "st_dev_dict_toy = {}\n",
    "\n",
    "for var_position, var in enumerate(FIELDS):\n",
    "    if var_position < 13:\n",
    "        mean, variance, minimum, maximum = get_stats(toyRDDCached, var_position)\n",
    "        print(\"FEATURE {}: \\t mean={}, \\t variance={}, \\t min={}, \\t max={}\".format(var, np.round(mean, 2), np.round(variance, 2), minimum, maximum))\n",
    "        mean_dict_toy[var_position] = mean\n",
    "        st_dev_dict_toy[var_position] = np.sqrt(variance)"
   ]
  },
  {
   "cell_type": "code",
   "execution_count": null,
   "metadata": {},
   "outputs": [],
   "source": [
    "# FULL DATA\n",
    "\n",
    "# save the means in a dictionary\n",
    "mean_dict = {}\n",
    "st_dev_dict = {}\n",
    "\n",
    "for var_position, var in enumerate(FIELDS):\n",
    "    if var_position < 13:\n",
    "        mean, variance, minimum, maximum = get_stats(trainRDDCached, var_position)\n",
    "        print(\"FEATURE {}: mean={}, variance={}, min={}, max={}\".format(var, np.round(mean, 2), np.round(variance, 2), minimum, maximum))\n",
    "        mean_dict[var_position] = mean\n",
    "        st_dev_dict_toy[var_position] = np.sqrt(variance)"
   ]
  },
  {
   "cell_type": "code",
   "execution_count": 107,
   "metadata": {},
   "outputs": [],
   "source": [
    "# imputing nulls with mean \n",
    "\n",
    "# TOY DATA\n",
    "imputedToyRDDCached = toyRDDCached.map(lambda x: impute_nulls(x, mean_dict_toy)).cache()"
   ]
  },
  {
   "cell_type": "code",
   "execution_count": null,
   "metadata": {},
   "outputs": [],
   "source": [
    "# FULL DATA \n",
    "imputedTrainRDDCached = trainRDDCached.map(lambda x: impute_nulls(x, mean_dict)).cache()"
   ]
  },
  {
   "cell_type": "markdown",
   "metadata": {},
   "source": [
    "***Takeaway: we impute the null values of the numerical columns with the mean (or median) of that column. No need to do that for the categorical features since one hot encoding will take care of the nulls.***"
   ]
  },
  {
   "cell_type": "markdown",
   "metadata": {},
   "source": [
    "#### 3.6.2 Standardize features "
   ]
  },
  {
   "cell_type": "code",
   "execution_count": 207,
   "metadata": {},
   "outputs": [],
   "source": [
    "def standardize(line, mean_dict, st_dev_dict):\n",
    "    \"\"\"\n",
    "    Scale and center data round mean of each feature (mean=0, sd=1)\n",
    "    \"\"\"\n",
    "    features, label = line[0], line[1]\n",
    "    formated_features = []\n",
    "    for i, value in enumerate(features):\n",
    "        if i < 13: \n",
    "            formated_features.append((value-mean_dict[i])/st_dev_dict[i])\n",
    "        else: \n",
    "            formated_features.append(value)\n",
    "\n",
    "    return (formated_features, label)"
   ]
  },
  {
   "cell_type": "code",
   "execution_count": 208,
   "metadata": {},
   "outputs": [],
   "source": [
    "# TOY DATA \n",
    "normedToyRDDCached = imputedToyRDDCached.map(lambda x: standardize(x, mean_dict_toy, st_dev_dict_toy)).cache()"
   ]
  },
  {
   "cell_type": "code",
   "execution_count": null,
   "metadata": {},
   "outputs": [],
   "source": [
    "# FULL DATA \n",
    "normedRDDCached = imputedTrainRDDCached.map(lambda x: standardize(x, mean_dict, st_dev_dict)).cache()"
   ]
  },
  {
   "cell_type": "markdown",
   "metadata": {},
   "source": [
    "***Takeaway: In the summary statistics, we notice that the numerical features have different ranges and thus we standardize our data (i.e. subtracting by the mean and dividing by the standard deviation of each column. Standardization would also help for a Logistic Regression algorithm to coverge faster.***"
   ]
  },
  {
   "cell_type": "markdown",
   "metadata": {},
   "source": [
    "### 3.7 Categorical Features"
   ]
  },
  {
   "cell_type": "code",
   "execution_count": 118,
   "metadata": {},
   "outputs": [],
   "source": [
    "def plot_category_counts(dataRDD, var, var_position, top):\n",
    "    \"\"\"\n",
    "    input: name and position of a categorical variable \n",
    "    \n",
    "    output: \n",
    "    * number of unique categories in the variable\n",
    "    * counts of each category occurance by label\n",
    "    * plot of top X category counts for the variable \n",
    "    \"\"\"\n",
    "    # counting category occurance within each categorical variable (by label)\n",
    "    count_per_category = dataRDD.map(lambda x: ( (x[1], x[0][var_position]), 1)) \\\n",
    "                                .reduceByKey(lambda x,y: x+y) \\\n",
    "                                .sortBy(lambda x: -x[1])\n",
    "\n",
    "    # counting number of unique values within the categorical variable\n",
    "    num_unique_values = count_per_category.map(lambda x: x[0][1]).distinct().count()\n",
    "\n",
    "    print('Unique values within the category:', num_unique_values)\n",
    "    print(' ')\n",
    "    top_x = count_per_category.take(top)\n",
    "    print('Top {} categories by count:'.format(top))\n",
    "    for i in top_x: \n",
    "        print('Category: {}; Label: {}; Count: {}'.format(i[0][1],i[0][0],i[1]))\n",
    "    print(' ')\n",
    "    \n",
    "    # Ploting bar graphs of the top X category counts for the variable (by label)\n",
    "#     df = pd.DataFrame(count_per_category.map(lambda x: (x[0][0], x[0][1], x[1])).take(1000)) # we take a random large number \n",
    "#     df.columns = ['label', 'category', 'count']\n",
    "#     df_plot = df.pivot('category','label').sort_values(('count',0), ascending=False).head(top) # df_plot is a subset of df\n",
    "#     width = .4\n",
    "#     ind = np.arange(top)\n",
    "#     p1 = plt.bar(ind, df_plot['count'][0], width, color='#d62728')\n",
    "#     p2 = plt.bar(ind, df_plot['count'][1], width, bottom=df_plot['count'][0])\n",
    "#     plt.ylabel('count')\n",
    "#     plt.title('Variable {}'.format(var))\n",
    "#     plt.xticks(ind, df_plot.index, rotation=90, fontsize=7)\n",
    "#     plt.legend((p1[0], p2[0]), ('1', '0'),loc='upper right')\n",
    "#     plt.show()"
   ]
  },
  {
   "cell_type": "code",
   "execution_count": 119,
   "metadata": {},
   "outputs": [
    {
     "name": "stdout",
     "output_type": "stream",
     "text": [
      " \n",
      "VARIABLE C1\n",
      " \n",
      "Unique values within the category: 57\n",
      " \n",
      "Top 10 categories by count:\n",
      "Category: 05db9164; Label: 0; Count: 345\n",
      "Category: 05db9164; Label: 1; Count: 140\n",
      "Category: 68fd1e64; Label: 0; Count: 107\n",
      "Category: 5a9ed9b0; Label: 0; Count: 78\n",
      "Category: 8cf07265; Label: 0; Count: 41\n",
      "Category: 68fd1e64; Label: 1; Count: 39\n",
      "Category: be589b51; Label: 0; Count: 32\n",
      "Category: 5a9ed9b0; Label: 1; Count: 25\n",
      "Category: 5bfa8ab5; Label: 0; Count: 20\n",
      "Category: f473b8dc; Label: 0; Count: 15\n",
      " \n",
      " \n",
      "VARIABLE C2\n",
      " \n",
      "Unique values within the category: 193\n",
      " \n",
      "Top 10 categories by count:\n",
      "Category: 38a947a1; Label: 0; Count: 78\n",
      "Category: 38a947a1; Label: 1; Count: 36\n",
      "Category: 1cfdf714; Label: 0; Count: 34\n",
      "Category: 38d50e09; Label: 0; Count: 34\n",
      "Category: 287130e0; Label: 0; Count: 27\n",
      "Category: 09e68b86; Label: 0; Count: 25\n",
      "Category: 4f25e98b; Label: 0; Count: 25\n",
      "Category: 207b2d81; Label: 0; Count: 25\n",
      "Category: 421b43cd; Label: 0; Count: 24\n",
      "Category: 287130e0; Label: 1; Count: 19\n",
      " \n",
      " \n",
      "VARIABLE C3\n",
      " \n",
      "Unique values within the category: 771\n",
      " \n",
      "Top 10 categories by count:\n",
      "Category: null; Label: 0; Count: 26\n",
      "Category: b00d1501; Label: 0; Count: 11\n",
      "Category: 02cf9876; Label: 0; Count: 10\n",
      "Category: d032c263; Label: 0; Count: 10\n",
      "Category: aa8c1539; Label: 0; Count: 9\n",
      "Category: 77f2f2e5; Label: 0; Count: 8\n",
      "Category: null; Label: 1; Count: 8\n",
      "Category: 74e1a23a; Label: 0; Count: 6\n",
      "Category: 02391f51; Label: 0; Count: 6\n",
      "Category: d032c263; Label: 1; Count: 5\n",
      " \n",
      " \n",
      "VARIABLE C4\n",
      " \n",
      "Unique values within the category: 660\n",
      " \n",
      "Top 10 categories by count:\n",
      "Category: null; Label: 0; Count: 26\n",
      "Category: 29998ed1; Label: 0; Count: 22\n",
      "Category: d16679b9; Label: 0; Count: 22\n",
      "Category: c18be181; Label: 0; Count: 20\n",
      "Category: 85dd697c; Label: 0; Count: 12\n",
      "Category: f922efad; Label: 0; Count: 10\n",
      "Category: c18be181; Label: 1; Count: 8\n",
      "Category: 13508380; Label: 1; Count: 8\n",
      "Category: null; Label: 1; Count: 8\n",
      "Category: 13508380; Label: 0; Count: 7\n",
      " \n",
      " \n",
      "VARIABLE C5\n",
      " \n",
      "Unique values within the category: 26\n",
      " \n",
      "Top 10 categories by count:\n",
      "Category: 25c83c98; Label: 0; Count: 460\n",
      "Category: 25c83c98; Label: 1; Count: 193\n",
      "Category: 4cf72387; Label: 0; Count: 129\n",
      "Category: 43b19349; Label: 0; Count: 45\n",
      "Category: 4cf72387; Label: 1; Count: 41\n",
      "Category: 384874ce; Label: 0; Count: 26\n",
      "Category: 30903e74; Label: 0; Count: 16\n",
      "Category: 384874ce; Label: 1; Count: 15\n",
      "Category: 0942e0a7; Label: 0; Count: 12\n",
      "Category: 43b19349; Label: 1; Count: 11\n",
      " \n",
      " \n",
      "VARIABLE C6\n",
      " \n",
      "Unique values within the category: 7\n",
      " \n",
      "Top 10 categories by count:\n",
      "Category: 7e0ccccf; Label: 0; Count: 280\n",
      "Category: fbad5c96; Label: 0; Count: 150\n",
      "Category: fe6b92e5; Label: 0; Count: 142\n",
      "Category: 7e0ccccf; Label: 1; Count: 108\n",
      "Category: null; Label: 0; Count: 98\n",
      "Category: fbad5c96; Label: 1; Count: 57\n",
      "Category: fe6b92e5; Label: 1; Count: 43\n",
      "Category: null; Label: 1; Count: 36\n",
      "Category: 6f6d9be8; Label: 0; Count: 24\n",
      "Category: 13718bbd; Label: 0; Count: 18\n",
      " \n",
      " \n",
      "VARIABLE C7\n",
      " \n",
      "Unique values within the category: 723\n",
      " \n",
      "Top 10 categories by count:\n",
      "Category: 1c86e0eb; Label: 1; Count: 17\n",
      "Category: 1c86e0eb; Label: 0; Count: 13\n",
      "Category: 90a2c015; Label: 0; Count: 7\n",
      "Category: 81bb0302; Label: 0; Count: 7\n",
      "Category: 7195046d; Label: 1; Count: 7\n",
      "Category: 468a0854; Label: 1; Count: 6\n",
      "Category: f00bddf8; Label: 0; Count: 6\n",
      "Category: 88002ee1; Label: 0; Count: 6\n",
      "Category: d2dbdfe6; Label: 1; Count: 5\n",
      "Category: 7195046d; Label: 0; Count: 5\n",
      " \n",
      " \n",
      "VARIABLE C8\n",
      " \n",
      "Unique values within the category: 35\n",
      " \n",
      "Top 10 categories by count:\n",
      "Category: 0b153874; Label: 0; Count: 424\n",
      "Category: 0b153874; Label: 1; Count: 173\n",
      "Category: 5b392875; Label: 0; Count: 114\n",
      "Category: 1f89b562; Label: 0; Count: 52\n",
      "Category: 5b392875; Label: 1; Count: 49\n",
      "Category: 37e4aa92; Label: 0; Count: 28\n",
      "Category: 51d76abe; Label: 0; Count: 17\n",
      "Category: 1f89b562; Label: 1; Count: 17\n",
      "Category: 062b5529; Label: 0; Count: 16\n",
      "Category: 6c41e35e; Label: 0; Count: 11\n",
      " \n",
      " \n",
      "VARIABLE C9\n",
      " \n",
      "Unique values within the category: 2\n",
      " \n",
      "Top 10 categories by count:\n",
      "Category: a73ee510; Label: 0; Count: 636\n",
      "Category: a73ee510; Label: 1; Count: 264\n",
      "Category: 7cc72ec2; Label: 0; Count: 87\n",
      "Category: 7cc72ec2; Label: 1; Count: 13\n",
      " \n",
      " \n",
      "VARIABLE C10\n",
      " \n",
      "Unique values within the category: 613\n",
      " \n",
      "Top 10 categories by count:\n",
      "Category: 3b08e48b; Label: 0; Count: 169\n",
      "Category: 3b08e48b; Label: 1; Count: 47\n",
      "Category: fbbf2c95; Label: 0; Count: 16\n",
      "Category: 5ba575e7; Label: 0; Count: 7\n",
      "Category: 49d1ad89; Label: 0; Count: 5\n",
      "Category: efea433b; Label: 1; Count: 5\n",
      "Category: efea433b; Label: 0; Count: 5\n",
      "Category: 213889cd; Label: 1; Count: 4\n",
      "Category: 474773a7; Label: 0; Count: 4\n",
      "Category: f9065d00; Label: 0; Count: 4\n",
      " \n",
      " \n",
      "VARIABLE C11\n",
      " \n",
      "Unique values within the category: 601\n",
      " \n",
      "Top 10 categories by count:\n",
      "Category: 755e4a50; Label: 1; Count: 19\n",
      "Category: 755e4a50; Label: 0; Count: 17\n",
      "Category: 7f8ffe57; Label: 0; Count: 11\n",
      "Category: 1054ae5c; Label: 0; Count: 10\n",
      "Category: e51ddf94; Label: 0; Count: 10\n",
      "Category: a7b606c4; Label: 0; Count: 9\n",
      "Category: b7094596; Label: 0; Count: 8\n",
      "Category: 4d8549da; Label: 0; Count: 8\n",
      "Category: 5874c9c9; Label: 0; Count: 7\n",
      "Category: 4d8549da; Label: 1; Count: 7\n",
      " \n",
      " \n",
      "VARIABLE C12\n",
      " \n",
      "Unique values within the category: 736\n",
      " \n",
      "Top 10 categories by count:\n",
      "Category: null; Label: 0; Count: 26\n",
      "Category: 6aaba33c; Label: 0; Count: 22\n",
      "Category: e0d76380; Label: 0; Count: 11\n",
      "Category: 8fe001f4; Label: 0; Count: 10\n",
      "Category: dfbb09fb; Label: 0; Count: 10\n",
      "Category: d8c29807; Label: 0; Count: 9\n",
      "Category: 9f32b866; Label: 0; Count: 8\n",
      "Category: null; Label: 1; Count: 8\n",
      "Category: fb8fab62; Label: 0; Count: 6\n",
      "Category: 6aaba33c; Label: 1; Count: 6\n",
      " \n",
      " \n",
      "VARIABLE C13\n",
      " \n",
      "Unique values within the category: 549\n",
      " \n",
      "Top 10 categories by count:\n",
      "Category: 5978055e; Label: 1; Count: 19\n",
      "Category: 5978055e; Label: 0; Count: 17\n",
      "Category: 3516f6e6; Label: 0; Count: 12\n",
      "Category: 46f42a63; Label: 0; Count: 11\n",
      "Category: d7ce3abd; Label: 0; Count: 10\n",
      "Category: 6e5da64f; Label: 0; Count: 9\n",
      "Category: eae197fd; Label: 0; Count: 9\n",
      "Category: 740c210d; Label: 0; Count: 9\n",
      "Category: 1aa94af3; Label: 0; Count: 8\n",
      "Category: 51b97b8f; Label: 0; Count: 8\n",
      " \n",
      " \n",
      "VARIABLE C14\n",
      " \n",
      "Unique values within the category: 18\n",
      " \n",
      "Top 10 categories by count:\n",
      "Category: b28479f6; Label: 0; Count: 272\n",
      "Category: 07d13a8f; Label: 0; Count: 229\n",
      "Category: 1adce6ef; Label: 0; Count: 107\n",
      "Category: b28479f6; Label: 1; Count: 95\n",
      "Category: 07d13a8f; Label: 1; Count: 91\n",
      "Category: 1adce6ef; Label: 1; Count: 49\n",
      "Category: 64c94865; Label: 0; Count: 32\n",
      "Category: cfef1c29; Label: 0; Count: 24\n",
      "Category: 051219e6; Label: 0; Count: 16\n",
      "Category: 64c94865; Label: 1; Count: 15\n",
      " \n",
      " \n",
      "VARIABLE C15\n",
      " \n",
      "Unique values within the category: 553\n",
      " \n",
      "Top 10 categories by count:\n",
      "Category: 2d0bb053; Label: 0; Count: 17\n",
      "Category: 42b3012c; Label: 0; Count: 12\n",
      "Category: d345b1a0; Label: 0; Count: 12\n",
      "Category: 310d155b; Label: 0; Count: 10\n",
      "Category: 52baadf5; Label: 0; Count: 9\n",
      "Category: 3628a186; Label: 0; Count: 8\n",
      "Category: dfab705f; Label: 0; Count: 7\n",
      "Category: f3002fbd; Label: 1; Count: 7\n",
      "Category: e1ac77f7; Label: 0; Count: 6\n",
      "Category: e2275836; Label: 0; Count: 6\n",
      " \n",
      " \n",
      "VARIABLE C16\n",
      " \n",
      "Unique values within the category: 707\n",
      " \n",
      "Top 10 categories by count:\n",
      "Category: null; Label: 0; Count: 26\n",
      "Category: b041b04a; Label: 0; Count: 22\n",
      "Category: 1203a270; Label: 0; Count: 11\n",
      "Category: 36103458; Label: 0; Count: 10\n",
      "Category: 84898b2a; Label: 0; Count: 10\n",
      "Category: c64d548f; Label: 0; Count: 9\n",
      "Category: null; Label: 1; Count: 8\n",
      "Category: 31ca40b6; Label: 0; Count: 8\n",
      "Category: 01adbab4; Label: 0; Count: 6\n",
      "Category: b041b04a; Label: 1; Count: 6\n",
      " \n",
      " \n",
      "VARIABLE C17\n",
      " \n",
      "Unique values within the category: 9\n",
      " \n",
      "Top 10 categories by count:\n",
      "Category: e5ba7672; Label: 0; Count: 330\n",
      "Category: e5ba7672; Label: 1; Count: 167\n",
      "Category: d4bb7bd8; Label: 0; Count: 98\n",
      "Category: 07c540c4; Label: 0; Count: 78\n",
      "Category: 3486227d; Label: 0; Count: 48\n",
      "Category: 776ce399; Label: 0; Count: 46\n",
      "Category: 1e88c74f; Label: 0; Count: 44\n",
      "Category: 07c540c4; Label: 1; Count: 31\n",
      "Category: 27c07bd6; Label: 0; Count: 30\n",
      "Category: 8efede7f; Label: 0; Count: 28\n",
      " \n",
      " \n",
      "VARIABLE C18\n",
      " \n",
      "Unique values within the category: 392\n",
      " \n",
      "Top 10 categories by count:\n",
      "Category: e88ffc9d; Label: 0; Count: 29\n",
      "Category: 2804effd; Label: 0; Count: 24\n",
      "Category: 891589e7; Label: 0; Count: 23\n",
      "Category: 582152eb; Label: 0; Count: 18\n",
      "Category: 5aed7436; Label: 0; Count: 17\n",
      "Category: c21c3e4c; Label: 0; Count: 16\n",
      "Category: 5bb2ec8e; Label: 0; Count: 16\n",
      "Category: 7ef5affa; Label: 0; Count: 15\n",
      "Category: 891589e7; Label: 1; Count: 14\n",
      "Category: e88ffc9d; Label: 1; Count: 14\n",
      " \n",
      " \n",
      "VARIABLE C19\n",
      " \n",
      "Unique values within the category: 128\n",
      " \n",
      "Top 10 categories by count:\n",
      "Category: null; Label: 0; Count: 306\n",
      "Category: 21ddcdc9; Label: 0; Count: 262\n",
      "Category: null; Label: 1; Count: 116\n",
      "Category: 21ddcdc9; Label: 1; Count: 96\n",
      "Category: 55dd3565; Label: 0; Count: 12\n",
      "Category: 55dd3565; Label: 1; Count: 8\n",
      "Category: 5b885066; Label: 0; Count: 6\n",
      "Category: 712d530c; Label: 1; Count: 6\n",
      "Category: cf99e5de; Label: 0; Count: 6\n",
      "Category: 9437f62f; Label: 0; Count: 5\n",
      " \n",
      " \n",
      "VARIABLE C20\n",
      " \n",
      "Unique values within the category: 4\n",
      " \n",
      "Top 10 categories by count:\n",
      "Category: null; Label: 0; Count: 306\n",
      "Category: a458ea53; Label: 0; Count: 156\n",
      "Category: 5840adea; Label: 0; Count: 142\n",
      "Category: b1252a9d; Label: 0; Count: 119\n",
      "Category: null; Label: 1; Count: 116\n",
      "Category: b1252a9d; Label: 1; Count: 68\n",
      "Category: a458ea53; Label: 1; Count: 53\n",
      "Category: 5840adea; Label: 1; Count: 40\n",
      " \n",
      " \n",
      "VARIABLE C21\n",
      " \n",
      "Unique values within the category: 724\n",
      " \n",
      "Top 10 categories by count:\n",
      "Category: null; Label: 0; Count: 26\n",
      "Category: 723b4dfd; Label: 0; Count: 22\n",
      "Category: 73d06dde; Label: 0; Count: 11\n",
      "Category: 0014c32a; Label: 0; Count: 10\n",
      "Category: e587c466; Label: 0; Count: 10\n",
      "Category: 5f957280; Label: 0; Count: 9\n",
      "Category: null; Label: 1; Count: 8\n",
      "Category: dfcfc3fa; Label: 0; Count: 8\n",
      "Category: 723b4dfd; Label: 1; Count: 6\n",
      "Category: 21c9516a; Label: 0; Count: 6\n",
      " \n",
      " \n",
      "VARIABLE C22\n",
      " \n",
      "Unique values within the category: 6\n",
      " \n",
      "Top 10 categories by count:\n",
      "Category: null; Label: 0; Count: 549\n",
      "Category: null; Label: 1; Count: 196\n",
      "Category: ad3062eb; Label: 0; Count: 95\n",
      "Category: c9d4222a; Label: 0; Count: 67\n",
      "Category: ad3062eb; Label: 1; Count: 50\n",
      "Category: c9d4222a; Label: 1; Count: 27\n",
      "Category: 8ec974f4; Label: 0; Count: 6\n",
      "Category: 78e2e389; Label: 0; Count: 5\n",
      "Category: c0061c6d; Label: 1; Count: 2\n",
      "Category: c0061c6d; Label: 0; Count: 1\n",
      " \n",
      " \n",
      "VARIABLE C23\n",
      " \n",
      "Unique values within the category: 12\n",
      " \n",
      "Top 10 categories by count:\n",
      "Category: 32c7478e; Label: 0; Count: 319\n",
      "Category: 3a171ecb; Label: 0; Count: 153\n",
      "Category: 32c7478e; Label: 1; Count: 128\n",
      "Category: 423fab69; Label: 0; Count: 66\n",
      "Category: be7c41b4; Label: 0; Count: 58\n",
      "Category: bcdee96c; Label: 0; Count: 53\n",
      "Category: 3a171ecb; Label: 1; Count: 46\n",
      "Category: 423fab69; Label: 1; Count: 45\n",
      "Category: c7dc6720; Label: 0; Count: 36\n",
      "Category: bcdee96c; Label: 1; Count: 28\n",
      " \n",
      " \n",
      "VARIABLE C24\n",
      " \n",
      "Unique values within the category: 489\n",
      " \n",
      "Top 10 categories by count:\n",
      "Category: 3fdb382b; Label: 0; Count: 44\n",
      "Category: b34f3128; Label: 0; Count: 37\n",
      "Category: 1793a828; Label: 0; Count: 31\n",
      "Category: null; Label: 0; Count: 26\n",
      "Category: 3b183c5c; Label: 0; Count: 23\n",
      "Category: aee52b6f; Label: 0; Count: 22\n",
      "Category: 1793a828; Label: 1; Count: 18\n",
      "Category: 45ab94c8; Label: 0; Count: 14\n",
      "Category: 9117a34a; Label: 0; Count: 14\n",
      "Category: b34f3128; Label: 1; Count: 13\n",
      " \n",
      " \n",
      "VARIABLE C25\n",
      " \n",
      "Unique values within the category: 30\n",
      " \n",
      "Top 10 categories by count:\n",
      "Category: null; Label: 0; Count: 306\n",
      "Category: null; Label: 1; Count: 116\n",
      "Category: 001f3601; Label: 0; Count: 100\n",
      "Category: e8b83407; Label: 0; Count: 82\n",
      "Category: ea9a246c; Label: 0; Count: 61\n",
      "Category: 001f3601; Label: 1; Count: 35\n",
      "Category: cb079c2d; Label: 0; Count: 31\n",
      "Category: e8b83407; Label: 1; Count: 30\n",
      "Category: f0f449dd; Label: 0; Count: 23\n",
      "Category: ea9a246c; Label: 1; Count: 23\n",
      " \n",
      " \n",
      "VARIABLE C26\n",
      " \n",
      "Unique values within the category: 375\n",
      " \n",
      "Top 10 categories by count:\n",
      "Category: null; Label: 0; Count: 306\n",
      "Category: null; Label: 1; Count: 116\n",
      "Category: 49d68486; Label: 0; Count: 31\n",
      "Category: 2fede552; Label: 0; Count: 14\n",
      "Category: c27f155b; Label: 0; Count: 12\n",
      "Category: 984e0db0; Label: 0; Count: 10\n",
      "Category: 2fede552; Label: 1; Count: 8\n",
      "Category: b7d9c3bc; Label: 0; Count: 8\n",
      "Category: c84c4aec; Label: 1; Count: 8\n",
      "Category: c27f155b; Label: 1; Count: 7\n",
      " \n"
     ]
    }
   ],
   "source": [
    "# TOY DATA\n",
    "\n",
    "for var_position, var in enumerate(FIELDS):\n",
    "\n",
    "    if var_position>12 and var_position<39:\n",
    "        print(\" \")\n",
    "        print(\"VARIABLE {}\".format(var))\n",
    "        print(\" \")\n",
    "        plot_category_counts(toyRDDCached, var, var_position=var_position, top=10)"
   ]
  },
  {
   "cell_type": "code",
   "execution_count": 58,
   "metadata": {},
   "outputs": [
    {
     "name": "stdout",
     "output_type": "stream",
     "text": [
      "Unique values within the category: 633\n",
      " \n",
      "Top 10 categories by count:\n",
      "Category: 0b153874; Label: 0; Count: 16201742\n",
      "Category: 0b153874; Label: 1; Count: 5584579\n",
      "Category: 5b392875; Label: 0; Count: 4538102\n",
      "Category: 1f89b562; Label: 0; Count: 2041973\n",
      "Category: 5b392875; Label: 1; Count: 1563874\n",
      "Category: 37e4aa92; Label: 0; Count: 1133414\n",
      "Category: 062b5529; Label: 0; Count: 707730\n",
      "Category: 1f89b562; Label: 1; Count: 702722\n",
      "Category: 51d76abe; Label: 0; Count: 485571\n",
      "Category: 37e4aa92; Label: 1; Count: 389988\n",
      " \n"
     ]
    },
    {
     "data": {
      "image/png": "[encoded data removed]",
      "text/plain": [
       "<Figure size 432x288 with 1 Axes>"
      ]
     },
     "metadata": {},
     "output_type": "display_data"
    }
   ],
   "source": [
    "# Example plot in full data \n",
    "plot_category_counts(trainRDDCached, 'C8', var_position=20, top=50)"
   ]
  },
  {
   "cell_type": "code",
   "execution_count": 69,
   "metadata": {},
   "outputs": [],
   "source": []
  },
  {
   "cell_type": "code",
   "execution_count": null,
   "metadata": {},
   "outputs": [],
   "source": [
    "# FULL DATA\n",
    "\n",
    "for var_position, var in enumerate(FIELDS):\n",
    "\n",
    "    if var_position>12 and var_position<39:\n",
    "        print(\" \")\n",
    "        print(\"VARIABLE {}\".format(var))\n",
    "        print(\" \")\n",
    "        plot_category_counts(trainRDDCached, var, var_position=var_position, top=20)"
   ]
  },
  {
   "cell_type": "code",
   "execution_count": null,
   "metadata": {},
   "outputs": [],
   "source": []
  },
  {
   "cell_type": "code",
   "execution_count": null,
   "metadata": {},
   "outputs": [],
   "source": []
  },
  {
   "cell_type": "code",
   "execution_count": null,
   "metadata": {},
   "outputs": [],
   "source": []
  },
  {
   "cell_type": "markdown",
   "metadata": {},
   "source": [
    "## 4. Algorithm Implementation"
   ]
  },
  {
   "cell_type": "code",
   "execution_count": null,
   "metadata": {},
   "outputs": [],
   "source": []
  },
  {
   "cell_type": "markdown",
   "metadata": {},
   "source": [
    "## 5. Application of Course Concepts"
   ]
  },
  {
   "cell_type": "code",
   "execution_count": null,
   "metadata": {},
   "outputs": [],
   "source": []
  }
 ],
 "metadata": {
  "kernelspec": {
   "display_name": "Python 3",
   "language": "python",
   "name": "python3"
  },
  "language_info": {
   "codemirror_mode": {
    "name": "ipython",
    "version": 3
   },
   "file_extension": ".py",
   "mimetype": "text/x-python",
   "name": "python",
   "nbconvert_exporter": "python",
   "pygments_lexer": "ipython3",
   "version": "3.6.6"
  }
 },
 "nbformat": 4,
 "nbformat_minor": 2
}
