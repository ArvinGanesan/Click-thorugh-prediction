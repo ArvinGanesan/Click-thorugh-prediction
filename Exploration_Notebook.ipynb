{
 "cells": [
  {
   "cell_type": "markdown",
   "metadata": {},
   "source": [
    "# W261 Final Project\n",
    "\n",
    "#### *Anusha Munjuluri, Arvindh Ganesan, Kim Vignola, Christina Papadimitriou*"
   ]
  },
  {
   "cell_type": "markdown",
   "metadata": {},
   "source": [
    "### Notebook Set-up"
   ]
  },
  {
   "cell_type": "code",
   "execution_count": 1,
   "metadata": {},
   "outputs": [],
   "source": [
    "# imports\n",
    "import re\n",
    "import time\n",
    "import numpy as np\n",
    "import pandas as pd\n",
    "import seaborn as sns\n",
    "import matplotlib.pyplot as plt"
   ]
  },
  {
   "cell_type": "code",
   "execution_count": 2,
   "metadata": {},
   "outputs": [],
   "source": [
    "# store path to notebook\n",
    "PWD = !pwd\n",
    "PWD = PWD[0]"
   ]
  },
  {
   "cell_type": "code",
   "execution_count": 3,
   "metadata": {},
   "outputs": [],
   "source": [
    "# start Spark Session\n",
    "from pyspark.sql import SparkSession\n",
    "app_name = \"final_project\"\n",
    "master = \"local[*]\"\n",
    "spark = SparkSession\\\n",
    "        .builder\\\n",
    "        .appName(app_name)\\\n",
    "        .master(master)\\\n",
    "        .getOrCreate()\n",
    "sc = spark.sparkContext"
   ]
  },
  {
   "cell_type": "markdown",
   "metadata": {},
   "source": [
    "## 1. Question Formulation"
   ]
  },
  {
   "cell_type": "code",
   "execution_count": null,
   "metadata": {},
   "outputs": [],
   "source": []
  },
  {
   "cell_type": "markdown",
   "metadata": {},
   "source": [
    "## 2. Algorithm Explanation"
   ]
  },
  {
   "cell_type": "code",
   "execution_count": null,
   "metadata": {},
   "outputs": [],
   "source": []
  },
  {
   "cell_type": "markdown",
   "metadata": {},
   "source": [
    "### Data Loading and Pre-Processing"
   ]
  },
  {
   "cell_type": "code",
   "execution_count": 4,
   "metadata": {},
   "outputs": [
    {
     "name": "stdout",
     "output_type": "stream",
     "text": [
      "0\t1\t1\t5\t0\t1382\t4\t15\t2\t181\t1\t2\t\t2\t68fd1e64\t80e26c9b\tfb936136\t7b4723c4\t25c83c98\t7e0ccccf\tde7995b8\t1f89b562\ta73ee510\ta8cd5504\tb2cb9c98\t37c9c164\t2824a5f6\t1adce6ef\t8ba8b39a\t891b62e7\te5ba7672\tf54016b9\t21ddcdc9\tb1252a9d\t07b5194c\t\t3a171ecb\tc5c50484\te8b83407\t9727dd16\n"
     ]
    }
   ],
   "source": [
    "# take a look at the data\n",
    "!head -n 1 data/train.txt"
   ]
  },
  {
   "cell_type": "code",
   "execution_count": 70,
   "metadata": {},
   "outputs": [],
   "source": [
    "# creating a small toy file\n",
    "!head -n 1000 Data/train.txt >> data/train_head1000.txt"
   ]
  },
  {
   "cell_type": "code",
   "execution_count": 5,
   "metadata": {},
   "outputs": [],
   "source": [
    "# load the data\n",
    "fullTrainRDD = sc.textFile('data/train.txt')\n",
    "testRDD = sc.textFile('data/test.txt')\n",
    "\n",
    "FIELDS = ['I1','I2','I3','I4','I5','I6','I7','I8','I9','I10','I11','I12','I13',\n",
    "          'C1','C2','C3','C4','C5','C6','C7','C8','C9','C10','C11','C12','C13','C14',\n",
    "          'C15','C16','C17','C18','C19','C20','C21','C22','C23','C24','C25','C26','Label']"
   ]
  },
  {
   "cell_type": "code",
   "execution_count": 10,
   "metadata": {},
   "outputs": [
    {
     "name": "stdout",
     "output_type": "stream",
     "text": [
      "Number of records in train data: 45840617 ...\n",
      "Number of records in test data: 6042135 ...\n"
     ]
    }
   ],
   "source": [
    "# number of rows in train/test data\n",
    "print(f\"Number of records in train data: {fullTrainRDD.count()} ...\")\n",
    "print(f\"Number of records in test data: {testRDD.count()} ...\")"
   ]
  },
  {
   "cell_type": "code",
   "execution_count": 6,
   "metadata": {},
   "outputs": [
    {
     "name": "stdout",
     "output_type": "stream",
     "text": [
      "... held out 9167871 records for evaluation and assigned 36672746 for training.\n"
     ]
    }
   ],
   "source": [
    "# Generate 80/20 (pseudo)random train/test split \n",
    "trainRDD, heldOutRDD = fullTrainRDD.randomSplit([0.8,0.2], seed = 1)\n",
    "print(f\"... held out {heldOutRDD.count()} records for evaluation and assigned {trainRDD.count()} for training.\")"
   ]
  },
  {
   "cell_type": "code",
   "execution_count": 7,
   "metadata": {},
   "outputs": [],
   "source": [
    "# helper functions\n",
    "def parse(line):\n",
    "    \"\"\"\n",
    "    Map line --> tuple of (features, label)\n",
    "    \"\"\"\n",
    "    fields = line.split('\\t')\n",
    "    features,label = fields[1:], fields[0]\n",
    "    return(features, label)\n",
    "\n",
    "def edit_data_types(line):\n",
    "    \"\"\"\n",
    "    Map tuple of (features, label) --> tuple of (formated features, label)\n",
    "    \n",
    "    * '' is replaced with 'null'\n",
    "    * numerical fields are converted to integers\n",
    "    \"\"\"\n",
    "    features, label = line[0], line[1]\n",
    "    formated_features = []\n",
    "    for i, value in enumerate(features):\n",
    "        if value == '':\n",
    "            formated_features.append(np.nan)\n",
    "        else:\n",
    "            if i < 13:\n",
    "                formated_features.append(int(value)) \n",
    "            else:\n",
    "                formated_features.append(value)\n",
    "    return (formated_features, label)"
   ]
  },
  {
   "cell_type": "code",
   "execution_count": 8,
   "metadata": {},
   "outputs": [],
   "source": [
    "trainRDDCached = trainRDD.map(parse).map(edit_data_types).cache()"
   ]
  },
  {
   "cell_type": "code",
   "execution_count": 9,
   "metadata": {},
   "outputs": [
    {
     "name": "stdout",
     "output_type": "stream",
     "text": [
      "[([1, 1, 5, 0, 1382, 4, 15, 2, 181, 1, 2, nan, 2, '68fd1e64', '80e26c9b', 'fb936136', '7b4723c4', '25c83c98', '7e0ccccf', 'de7995b8', '1f89b562', 'a73ee510', 'a8cd5504', 'b2cb9c98', '37c9c164', '2824a5f6', '1adce6ef', '8ba8b39a', '891b62e7', 'e5ba7672', 'f54016b9', '21ddcdc9', 'b1252a9d', '07b5194c', nan, '3a171ecb', 'c5c50484', 'e8b83407', '9727dd16'], '0')]\n"
     ]
    }
   ],
   "source": [
    "print(trainRDDCached.take(1))"
   ]
  },
  {
   "cell_type": "code",
   "execution_count": 32,
   "metadata": {},
   "outputs": [],
   "source": [
    "sample = np.array(trainRDDCached.map(lambda x: np.append(x[0], [x[1]])).takeSample(False, 1000))\n",
    "sample_df = pd.DataFrame(np.array(sample), columns = FIELDS)"
   ]
  },
  {
   "cell_type": "code",
   "execution_count": 36,
   "metadata": {},
   "outputs": [
    {
     "data": {
      "text/html": [
       "<div>\n",
       "<style scoped>\n",
       "    .dataframe tbody tr th:only-of-type {\n",
       "        vertical-align: middle;\n",
       "    }\n",
       "\n",
       "    .dataframe tbody tr th {\n",
       "        vertical-align: top;\n",
       "    }\n",
       "\n",
       "    .dataframe thead th {\n",
       "        text-align: right;\n",
       "    }\n",
       "</style>\n",
       "<table border=\"1\" class=\"dataframe\">\n",
       "  <thead>\n",
       "    <tr style=\"text-align: right;\">\n",
       "      <th></th>\n",
       "      <th>I1</th>\n",
       "      <th>I2</th>\n",
       "      <th>I3</th>\n",
       "      <th>I4</th>\n",
       "      <th>I5</th>\n",
       "      <th>I6</th>\n",
       "      <th>I7</th>\n",
       "      <th>I8</th>\n",
       "      <th>I9</th>\n",
       "      <th>I10</th>\n",
       "      <th>...</th>\n",
       "      <th>C18</th>\n",
       "      <th>C19</th>\n",
       "      <th>C20</th>\n",
       "      <th>C21</th>\n",
       "      <th>C22</th>\n",
       "      <th>C23</th>\n",
       "      <th>C24</th>\n",
       "      <th>C25</th>\n",
       "      <th>C26</th>\n",
       "      <th>Label</th>\n",
       "    </tr>\n",
       "  </thead>\n",
       "  <tbody>\n",
       "    <tr>\n",
       "      <th>0</th>\n",
       "      <td>null</td>\n",
       "      <td>43</td>\n",
       "      <td>12</td>\n",
       "      <td>1</td>\n",
       "      <td>11180</td>\n",
       "      <td>null</td>\n",
       "      <td>0</td>\n",
       "      <td>4</td>\n",
       "      <td>10</td>\n",
       "      <td>null</td>\n",
       "      <td>...</td>\n",
       "      <td>25935396</td>\n",
       "      <td>21ddcdc9</td>\n",
       "      <td>5840adea</td>\n",
       "      <td>99c09e97</td>\n",
       "      <td>null</td>\n",
       "      <td>32c7478e</td>\n",
       "      <td>335a6a1e</td>\n",
       "      <td>001f3601</td>\n",
       "      <td>8d8eb391</td>\n",
       "      <td>0</td>\n",
       "    </tr>\n",
       "    <tr>\n",
       "      <th>1</th>\n",
       "      <td>null</td>\n",
       "      <td>0</td>\n",
       "      <td>31</td>\n",
       "      <td>4</td>\n",
       "      <td>3093</td>\n",
       "      <td>null</td>\n",
       "      <td>0</td>\n",
       "      <td>9</td>\n",
       "      <td>4</td>\n",
       "      <td>null</td>\n",
       "      <td>...</td>\n",
       "      <td>9efc6015</td>\n",
       "      <td>null</td>\n",
       "      <td>null</td>\n",
       "      <td>08168d73</td>\n",
       "      <td>null</td>\n",
       "      <td>32c7478e</td>\n",
       "      <td>9266d2b9</td>\n",
       "      <td>null</td>\n",
       "      <td>null</td>\n",
       "      <td>0</td>\n",
       "    </tr>\n",
       "    <tr>\n",
       "      <th>2</th>\n",
       "      <td>2</td>\n",
       "      <td>19</td>\n",
       "      <td>12</td>\n",
       "      <td>10</td>\n",
       "      <td>28</td>\n",
       "      <td>13</td>\n",
       "      <td>2</td>\n",
       "      <td>9</td>\n",
       "      <td>10</td>\n",
       "      <td>1</td>\n",
       "      <td>...</td>\n",
       "      <td>005c6740</td>\n",
       "      <td>21ddcdc9</td>\n",
       "      <td>5840adea</td>\n",
       "      <td>bf055581</td>\n",
       "      <td>null</td>\n",
       "      <td>32c7478e</td>\n",
       "      <td>1793a828</td>\n",
       "      <td>e8b83407</td>\n",
       "      <td>b9809574</td>\n",
       "      <td>0</td>\n",
       "    </tr>\n",
       "    <tr>\n",
       "      <th>3</th>\n",
       "      <td>1</td>\n",
       "      <td>0</td>\n",
       "      <td>null</td>\n",
       "      <td>null</td>\n",
       "      <td>1192</td>\n",
       "      <td>53</td>\n",
       "      <td>1</td>\n",
       "      <td>11</td>\n",
       "      <td>9</td>\n",
       "      <td>1</td>\n",
       "      <td>...</td>\n",
       "      <td>e7e991cb</td>\n",
       "      <td>21ddcdc9</td>\n",
       "      <td>a458ea53</td>\n",
       "      <td>9ee23d5c</td>\n",
       "      <td>null</td>\n",
       "      <td>c7dc6720</td>\n",
       "      <td>ae597d01</td>\n",
       "      <td>ea9a246c</td>\n",
       "      <td>ea90a691</td>\n",
       "      <td>0</td>\n",
       "    </tr>\n",
       "    <tr>\n",
       "      <th>4</th>\n",
       "      <td>null</td>\n",
       "      <td>2</td>\n",
       "      <td>1</td>\n",
       "      <td>null</td>\n",
       "      <td>28537</td>\n",
       "      <td>102</td>\n",
       "      <td>1</td>\n",
       "      <td>2</td>\n",
       "      <td>36</td>\n",
       "      <td>null</td>\n",
       "      <td>...</td>\n",
       "      <td>e7e991cb</td>\n",
       "      <td>1d1eb838</td>\n",
       "      <td>a458ea53</td>\n",
       "      <td>650c1a88</td>\n",
       "      <td>null</td>\n",
       "      <td>32c7478e</td>\n",
       "      <td>e39ca0cd</td>\n",
       "      <td>e8b83407</td>\n",
       "      <td>8bfe30cc</td>\n",
       "      <td>0</td>\n",
       "    </tr>\n",
       "    <tr>\n",
       "      <th>5</th>\n",
       "      <td>0</td>\n",
       "      <td>79</td>\n",
       "      <td>1</td>\n",
       "      <td>3</td>\n",
       "      <td>1369</td>\n",
       "      <td>9</td>\n",
       "      <td>5</td>\n",
       "      <td>12</td>\n",
       "      <td>50</td>\n",
       "      <td>0</td>\n",
       "      <td>...</td>\n",
       "      <td>744ad4a0</td>\n",
       "      <td>null</td>\n",
       "      <td>null</td>\n",
       "      <td>a17a10b3</td>\n",
       "      <td>null</td>\n",
       "      <td>3a171ecb</td>\n",
       "      <td>e5fca70a</td>\n",
       "      <td>null</td>\n",
       "      <td>null</td>\n",
       "      <td>1</td>\n",
       "    </tr>\n",
       "    <tr>\n",
       "      <th>6</th>\n",
       "      <td>null</td>\n",
       "      <td>1</td>\n",
       "      <td>69</td>\n",
       "      <td>7</td>\n",
       "      <td>234509</td>\n",
       "      <td>null</td>\n",
       "      <td>0</td>\n",
       "      <td>9</td>\n",
       "      <td>2</td>\n",
       "      <td>null</td>\n",
       "      <td>...</td>\n",
       "      <td>1f9656b8</td>\n",
       "      <td>21ddcdc9</td>\n",
       "      <td>b1252a9d</td>\n",
       "      <td>38483e30</td>\n",
       "      <td>null</td>\n",
       "      <td>32c7478e</td>\n",
       "      <td>1793a828</td>\n",
       "      <td>e8b83407</td>\n",
       "      <td>70b6702c</td>\n",
       "      <td>0</td>\n",
       "    </tr>\n",
       "    <tr>\n",
       "      <th>7</th>\n",
       "      <td>0</td>\n",
       "      <td>1</td>\n",
       "      <td>2</td>\n",
       "      <td>null</td>\n",
       "      <td>45146</td>\n",
       "      <td>null</td>\n",
       "      <td>null</td>\n",
       "      <td>7</td>\n",
       "      <td>null</td>\n",
       "      <td>0</td>\n",
       "      <td>...</td>\n",
       "      <td>8f0f692f</td>\n",
       "      <td>21ddcdc9</td>\n",
       "      <td>b1252a9d</td>\n",
       "      <td>cc6a9262</td>\n",
       "      <td>null</td>\n",
       "      <td>3a171ecb</td>\n",
       "      <td>a5862ce8</td>\n",
       "      <td>445bbe3b</td>\n",
       "      <td>5fdad95a</td>\n",
       "      <td>0</td>\n",
       "    </tr>\n",
       "    <tr>\n",
       "      <th>8</th>\n",
       "      <td>null</td>\n",
       "      <td>76</td>\n",
       "      <td>null</td>\n",
       "      <td>1</td>\n",
       "      <td>750</td>\n",
       "      <td>null</td>\n",
       "      <td>0</td>\n",
       "      <td>32</td>\n",
       "      <td>8</td>\n",
       "      <td>null</td>\n",
       "      <td>...</td>\n",
       "      <td>defd44e8</td>\n",
       "      <td>null</td>\n",
       "      <td>null</td>\n",
       "      <td>5a5953a2</td>\n",
       "      <td>c9d4222a</td>\n",
       "      <td>32c7478e</td>\n",
       "      <td>8f079aa5</td>\n",
       "      <td>null</td>\n",
       "      <td>null</td>\n",
       "      <td>0</td>\n",
       "    </tr>\n",
       "    <tr>\n",
       "      <th>9</th>\n",
       "      <td>2</td>\n",
       "      <td>1</td>\n",
       "      <td>8</td>\n",
       "      <td>8</td>\n",
       "      <td>324</td>\n",
       "      <td>11</td>\n",
       "      <td>4</td>\n",
       "      <td>20</td>\n",
       "      <td>147</td>\n",
       "      <td>1</td>\n",
       "      <td>...</td>\n",
       "      <td>891589e7</td>\n",
       "      <td>6f3756eb</td>\n",
       "      <td>a458ea53</td>\n",
       "      <td>f4ab3863</td>\n",
       "      <td>null</td>\n",
       "      <td>423fab69</td>\n",
       "      <td>18a58a01</td>\n",
       "      <td>f0f449dd</td>\n",
       "      <td>68df8ac4</td>\n",
       "      <td>1</td>\n",
       "    </tr>\n",
       "  </tbody>\n",
       "</table>\n",
       "<p>10 rows × 40 columns</p>\n",
       "</div>"
      ],
      "text/plain": [
       "     I1  I2    I3    I4      I5    I6    I7  I8    I9   I10  ...        C18  \\\n",
       "0  null  43    12     1   11180  null     0   4    10  null  ...   25935396   \n",
       "1  null   0    31     4    3093  null     0   9     4  null  ...   9efc6015   \n",
       "2     2  19    12    10      28    13     2   9    10     1  ...   005c6740   \n",
       "3     1   0  null  null    1192    53     1  11     9     1  ...   e7e991cb   \n",
       "4  null   2     1  null   28537   102     1   2    36  null  ...   e7e991cb   \n",
       "5     0  79     1     3    1369     9     5  12    50     0  ...   744ad4a0   \n",
       "6  null   1    69     7  234509  null     0   9     2  null  ...   1f9656b8   \n",
       "7     0   1     2  null   45146  null  null   7  null     0  ...   8f0f692f   \n",
       "8  null  76  null     1     750  null     0  32     8  null  ...   defd44e8   \n",
       "9     2   1     8     8     324    11     4  20   147     1  ...   891589e7   \n",
       "\n",
       "        C19       C20       C21       C22       C23       C24       C25  \\\n",
       "0  21ddcdc9  5840adea  99c09e97      null  32c7478e  335a6a1e  001f3601   \n",
       "1      null      null  08168d73      null  32c7478e  9266d2b9      null   \n",
       "2  21ddcdc9  5840adea  bf055581      null  32c7478e  1793a828  e8b83407   \n",
       "3  21ddcdc9  a458ea53  9ee23d5c      null  c7dc6720  ae597d01  ea9a246c   \n",
       "4  1d1eb838  a458ea53  650c1a88      null  32c7478e  e39ca0cd  e8b83407   \n",
       "5      null      null  a17a10b3      null  3a171ecb  e5fca70a      null   \n",
       "6  21ddcdc9  b1252a9d  38483e30      null  32c7478e  1793a828  e8b83407   \n",
       "7  21ddcdc9  b1252a9d  cc6a9262      null  3a171ecb  a5862ce8  445bbe3b   \n",
       "8      null      null  5a5953a2  c9d4222a  32c7478e  8f079aa5      null   \n",
       "9  6f3756eb  a458ea53  f4ab3863      null  423fab69  18a58a01  f0f449dd   \n",
       "\n",
       "        C26 Label  \n",
       "0  8d8eb391     0  \n",
       "1      null     0  \n",
       "2  b9809574     0  \n",
       "3  ea90a691     0  \n",
       "4  8bfe30cc     0  \n",
       "5      null     1  \n",
       "6  70b6702c     0  \n",
       "7  5fdad95a     0  \n",
       "8      null     0  \n",
       "9  68df8ac4     1  \n",
       "\n",
       "[10 rows x 40 columns]"
      ]
     },
     "execution_count": 36,
     "metadata": {},
     "output_type": "execute_result"
    }
   ],
   "source": [
    "sample_df.head(10)"
   ]
  },
  {
   "cell_type": "code",
   "execution_count": null,
   "metadata": {},
   "outputs": [],
   "source": [
    "# # part a - take a look at histograms for each feature (RUN THIS CELL AS IS)\n",
    "# sample_df[FIELDS[:13]].hist(figsize=(20,20), bins=15)\n",
    "# plt.show()"
   ]
  },
  {
   "cell_type": "markdown",
   "metadata": {},
   "source": [
    "## 3. EDA & Discussion of Challenges"
   ]
  },
  {
   "cell_type": "markdown",
   "metadata": {},
   "source": [
    "### 3.1 Labels"
   ]
  },
  {
   "cell_type": "code",
   "execution_count": 82,
   "metadata": {},
   "outputs": [
    {
     "name": "stdout",
     "output_type": "stream",
     "text": [
      "74.38 % of the records have label=0 and 25.62 % have label=1...\n"
     ]
    }
   ],
   "source": [
    "# counting records for each class \n",
    "count_label_0 = trainRDDCached.filter(lambda x: x[1] == '0').count()\n",
    "count_label_1 = trainRDDCached.filter(lambda x: x[1] == '1').count()\n",
    "total = count_label_0 + count_label_1\n",
    "\n",
    "print(f\"{np.round(count_label_0/total*100, 2)} % of the records have label=0 and {np.round(count_label_1/total*100, 2)} % have label=1...\")"
   ]
  },
  {
   "cell_type": "markdown",
   "metadata": {},
   "source": [
    "### 3.2 Categorical Features"
   ]
  },
  {
   "cell_type": "code",
   "execution_count": 57,
   "metadata": {},
   "outputs": [],
   "source": [
    "def plot_category_counts(dataRDD, var, var_position, top):\n",
    "    \"\"\"\n",
    "    input: name and position of a categorical variable \n",
    "    \n",
    "    output: \n",
    "    * number of unique categories in the variable\n",
    "    * counts of each category occurance by label\n",
    "    * plot of top X category counts for the variable \n",
    "    \"\"\"\n",
    "    # counting category occurance within each categorical variable (by label)\n",
    "    count_per_category = dataRDD.map(lambda x: ( (x[1], x[0][var_position]), 1)) \\\n",
    "                                .reduceByKey(lambda x,y: x+y) \\\n",
    "                                .sortBy(lambda x: -x[1])\n",
    "\n",
    "    # counting number of unique values within the categorical variable\n",
    "    num_unique_values = count_per_category.map(lambda x: x[0][1]).distinct().count()\n",
    "\n",
    "    print('Unique values within the category:', num_unique_values)\n",
    "    print(' ')\n",
    "    top10 = count_per_category.take(10)\n",
    "    print('Top 10 categories by count:')\n",
    "    for i in top10: \n",
    "        print('Category: {}; Label: {}; Count: {}'.format(i[0][1],i[0][0],i[1]))\n",
    "    print(' ')\n",
    "    \n",
    "    # Ploting bar graphs of the top X category counts for the variable (by label)\n",
    "    df = pd.DataFrame(count_per_category.map(lambda x: (x[0][0], x[0][1], x[1])).take(1000)) # we take a random large number \n",
    "    df.columns = ['label', 'category', 'count']\n",
    "    df_plot = df.pivot('category','label').sort_values(('count','0'), ascending=False).head(top) # df_plot is a subset of df\n",
    "    width = .4\n",
    "    ind = np.arange(top)\n",
    "    p1 = plt.bar(ind, df_plot['count']['0'], width, color='#d62728')\n",
    "    p2 = plt.bar(ind, df_plot['count']['1'], width, bottom=df_plot['count']['0'])\n",
    "    plt.ylabel('count')\n",
    "    plt.title('Variable {}'.format(var))\n",
    "    plt.xticks(ind, df_plot.index, rotation=90, fontsize=7)\n",
    "    plt.legend((p1[0], p2[0]), ('1', '0'),loc='upper right')\n",
    "    plt.show()"
   ]
  },
  {
   "cell_type": "code",
   "execution_count": 58,
   "metadata": {},
   "outputs": [
    {
     "name": "stdout",
     "output_type": "stream",
     "text": [
      "Unique values within the category: 633\n",
      " \n",
      "Top 10 categories by count:\n",
      "Category: 0b153874; Label: 0; Count: 16201742\n",
      "Category: 0b153874; Label: 1; Count: 5584579\n",
      "Category: 5b392875; Label: 0; Count: 4538102\n",
      "Category: 1f89b562; Label: 0; Count: 2041973\n",
      "Category: 5b392875; Label: 1; Count: 1563874\n",
      "Category: 37e4aa92; Label: 0; Count: 1133414\n",
      "Category: 062b5529; Label: 0; Count: 707730\n",
      "Category: 1f89b562; Label: 1; Count: 702722\n",
      "Category: 51d76abe; Label: 0; Count: 485571\n",
      "Category: 37e4aa92; Label: 1; Count: 389988\n",
      " \n"
     ]
    },
    {
     "data": {
      "image/png": "[encoded data removed]",
      "text/plain": [
       "<Figure size 432x288 with 1 Axes>"
      ]
     },
     "metadata": {},
     "output_type": "display_data"
    }
   ],
   "source": [
    "plot_category_counts(trainRDDCached, 'C8', var_position=20, top=50)"
   ]
  },
  {
   "cell_type": "code",
   "execution_count": null,
   "metadata": {},
   "outputs": [
    {
     "name": "stdout",
     "output_type": "stream",
     "text": [
      "Unique values within the category: 1460\n",
      " \n",
      "Top 10 categories by count:\n",
      "Category: 05db9164; Label: 0; Count: 13654205\n",
      "Category: 05db9164; Label: 1; Count: 4705450\n",
      "Category: 68fd1e64; Label: 0; Count: 4551365\n",
      "Category: 5a9ed9b0; Label: 0; Count: 2276407\n",
      "Category: 68fd1e64; Label: 1; Count: 1567470\n",
      "Category: 8cf07265; Label: 0; Count: 1350662\n",
      "Category: be589b51; Label: 0; Count: 901451\n",
      "Category: 5a9ed9b0; Label: 1; Count: 783874\n",
      "Category: 5bfa8ab5; Label: 0; Count: 653927\n",
      "Category: 87552397; Label: 0; Count: 486161\n",
      " \n"
     ]
    },
    {
     "data": {
      "image/png": "[encoded data removed]",
      "text/plain": [
       "<Figure size 432x288 with 1 Axes>"
      ]
     },
     "metadata": {},
     "output_type": "display_data"
    },
    {
     "name": "stdout",
     "output_type": "stream",
     "text": [
      "Unique values within the category: 578\n",
      " \n",
      "Top 10 categories by count:\n",
      "Category: 38a947a1; Label: 0; Count: 2892855\n",
      "Category: 38a947a1; Label: 1; Count: 1305706\n",
      "Category: 207b2d81; Label: 0; Count: 1290665\n",
      "Category: 38d50e09; Label: 0; Count: 1158005\n",
      "Category: 287130e0; Label: 0; Count: 982979\n",
      "Category: 1cfdf714; Label: 0; Count: 964443\n",
      "Category: 4f25e98b; Label: 0; Count: 921110\n",
      "Category: 09e68b86; Label: 0; Count: 898783\n",
      "Category: 421b43cd; Label: 0; Count: 691189\n",
      "Category: 80e26c9b; Label: 0; Count: 654949\n",
      " \n"
     ]
    },
    {
     "data": {
      "image/png": "[encoded data removed]",
      "text/plain": [
       "<Figure size 432x288 with 1 Axes>"
      ]
     },
     "metadata": {},
     "output_type": "display_data"
    }
   ],
   "source": [
    "for var_position, var in enumerate(FIELDS):\n",
    "    if var_position>12 and var_position<39:\n",
    "        plot_category_counts(trainRDDCached, var, var_position=var_position, top=50)"
   ]
  },
  {
   "cell_type": "code",
   "execution_count": null,
   "metadata": {},
   "outputs": [],
   "source": []
  },
  {
   "cell_type": "code",
   "execution_count": null,
   "metadata": {},
   "outputs": [],
   "source": []
  },
  {
   "cell_type": "code",
   "execution_count": null,
   "metadata": {},
   "outputs": [],
   "source": []
  },
  {
   "cell_type": "code",
   "execution_count": null,
   "metadata": {},
   "outputs": [],
   "source": []
  },
  {
   "cell_type": "code",
   "execution_count": null,
   "metadata": {},
   "outputs": [],
   "source": []
  },
  {
   "cell_type": "code",
   "execution_count": null,
   "metadata": {},
   "outputs": [],
   "source": []
  },
  {
   "cell_type": "markdown",
   "metadata": {},
   "source": [
    "### 3.3 Numeric Features"
   ]
  },
  {
   "cell_type": "code",
   "execution_count": null,
   "metadata": {},
   "outputs": [],
   "source": []
  },
  {
   "cell_type": "code",
   "execution_count": null,
   "metadata": {},
   "outputs": [],
   "source": []
  },
  {
   "cell_type": "code",
   "execution_count": null,
   "metadata": {},
   "outputs": [],
   "source": []
  },
  {
   "cell_type": "markdown",
   "metadata": {},
   "source": [
    "## 4. Algorithm Implementation"
   ]
  },
  {
   "cell_type": "code",
   "execution_count": null,
   "metadata": {},
   "outputs": [],
   "source": []
  },
  {
   "cell_type": "markdown",
   "metadata": {},
   "source": [
    "## 5. Application of Course Concepts"
   ]
  },
  {
   "cell_type": "code",
   "execution_count": null,
   "metadata": {},
   "outputs": [],
   "source": []
  }
 ],
 "metadata": {
  "kernelspec": {
   "display_name": "Python 3",
   "language": "python",
   "name": "python3"
  },
  "language_info": {
   "codemirror_mode": {
    "name": "ipython",
    "version": 3
   },
   "file_extension": ".py",
   "mimetype": "text/x-python",
   "name": "python",
   "nbconvert_exporter": "python",
   "pygments_lexer": "ipython3",
   "version": "3.6.6"
  }
 },
 "nbformat": 4,
 "nbformat_minor": 2
}
